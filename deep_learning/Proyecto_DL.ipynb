{
  "cells": [
    {
      "cell_type": "markdown",
      "metadata": {},
      "source": [
        "<hr style=\"height:5px;border-width:0;color:orange;background-color:orange\">\n",
        "    <center> <span style=\"font-size: 38px;\"> Computer Vision Classification </span> </center>\n",
        "\n",
        "+ Author: **Alejandro Sánchez Silvestre**\n",
        "+ Date: **February 2024**\n",
        "+ Module: **Deep Learning**\n",
        "\n",
        "<hr style=\"height:5px;border-width:0;color:orange;background-color:orange\">"
      ]
    },
    {
      "cell_type": "markdown",
      "metadata": {},
      "source": [
        "\n",
        "# Intro\n",
        "\n",
        "**Datos:**\n",
        "\n",
        "El problema a resolver consiste en una clasificación multiclase de imágenes (10 clases). Las imágenes tienen una resolución de 32x32 pixeles a color. Es decir no son imágenes de mucha resolución ni muy nítidas.\n",
        "\n",
        "Obtenemos los datos desde el dataset CIFAR10 de Keras (https://keras.io/api/datasets/cifar10/). En el dataset tenemos unas 60.000 imagenes a RGB (50k train y 10k test) de 32x32 pixeles.\n",
        "\n",
        "Asumimos que los datos estan limpios.\n",
        "\n",
        "\n",
        "Las imagenes las tendremos que clasificar en 10 clases etiquetadas:\n",
        "- Airplane\n",
        "- Automobile\n",
        "- Bird\n",
        "- Cat\n",
        "- Deer\n",
        "- Dog\n",
        "- Frog\n",
        "- Horse\n",
        "- Ship\n",
        "- Truck\n",
        "\n",
        "**OBJETIVO**\n",
        "\n",
        "Genenerar un modelo de Deep Learning capaz de clasificar correctamente las imagenes segun la clase. \n",
        "Para la resolución de este problema usaremos una red neuronal con capas convolucionales (CNN) ya que trabajan mejor con imagenes que las capas densas. \n",
        "\n",
        "Las métricas que utilizaremos para este problema será la **accuracy** ya que nos interesa capturar el máximo de true positives ya que los false positives y false negatives no penalizan. (en este caso utilizaríamos otras como recall o precision)\n",
        "\n",
        "\n",
        "\n",
        "\n",
        "\n",
        "**ROAD MAP Y OUTLINE**: \n",
        "- **Intro**\n",
        "1. **Librerias**\n",
        "2. **Preparacion de los datos**\n",
        "3. **Arquitectura del modelo**\n",
        "4. **Modelización y entrenamiento**\n",
        "5. **Evaluacion de resultados**\n",
        "6. **Conclusion**\n",
        "\n",
        "\n",
        "\n",
        "\n",
        "\n",
        "\n",
        "<hr style=\"height:5px;border-width:0;color:orange;background-color:orange\">"
      ]
    },
    {
      "cell_type": "markdown",
      "metadata": {
        "id": "e5awq5ZU9oJn",
        "tags": []
      },
      "source": [
        "<a id='seccion1'></a>\n",
        "# **1. Librerias**\n",
        "<hr style=\"height:5px;border-width:0;color:orange;background-color:orange\">"
      ]
    },
    {
      "cell_type": "code",
      "execution_count": 16,
      "metadata": {
        "id": "6e89W2u_9oJo"
      },
      "outputs": [],
      "source": [
        "# Para empezar carguemos esas librerias que nos hacen falta\n",
        "from tensorflow import keras as ks\n",
        "from matplotlib import pyplot as plt\n",
        "import numpy as np\n",
        "import time\n",
        "import datetime\n",
        "\n",
        "\n",
        "from tensorflow.keras import regularizers\n",
        "import tensorflow as tf\n",
        "from tensorflow.keras import layers, models\n",
        "\n",
        "from tensorflow.keras.optimizers import Adam, SGD\n",
        "\n",
        "from tensorflow.keras import regularizers\n",
        "from tensorflow.keras.models import Sequential\n",
        "from tensorflow.keras.layers import Conv2D, MaxPooling2D, Flatten, Dense, Dropout, BatchNormalization\n",
        "\n",
        "from tensorflow.keras.preprocessing.image import ImageDataGenerator\n",
        "from tensorflow.keras.callbacks import EarlyStopping"
      ]
    },
    {
      "cell_type": "markdown",
      "metadata": {},
      "source": [
        "<a id='seccion2'></a>\n",
        "# **2. Preparacion de los datos**\n",
        "<hr style=\"height:5px;border-width:0;color:orange;background-color:orange\">"
      ]
    },
    {
      "cell_type": "markdown",
      "metadata": {},
      "source": [
        "Cargamos los datos de CIFAR10 de los datasets directamente de las librerias de Keras. Estos ya estan dispuestos en train and test\n",
        "\n",
        "La red neuronal requiere que los inputs sean números reales, y lo haremos forzando la division de los valores de dentro de las matrices. Estas son imagenes de 32x32 pixeles, siendo el valor de cada uno del 0 al 255 por cada color del RGB quedando asi un numero real del 0 al 1, esto ya si lo puede tragar la red neuronal.\n",
        "\n",
        "Cada elemento del conjunto de etiquetas y_train e y_test es una matriz unidimensional que contiene la etiqueta correspondiente a cada imagen en x_train e x_test, respectivamente. Sin embargo, muchos modelos de aprendizaje automático esperan que las etiquetas sean un vector unidimensional en lugar de una matriz. Por lo tanto, se utiliza la función flatten() para convertir estas matrices unidimensionales en vectores unidimensionales, asegurando que las etiquetas sean compatibles con los modelos que se van a entrenar. Esto facilita el procesamiento y la compatibilidad con diferentes arquitecturas de modelos."
      ]
    },
    {
      "cell_type": "code",
      "execution_count": 17,
      "metadata": {},
      "outputs": [
        {
          "name": "stdout",
          "output_type": "stream",
          "text": [
            "Downloading data from https://www.cs.toronto.edu/~kriz/cifar-10-python.tar.gz\n"
          ]
        },
        {
          "name": "stdout",
          "output_type": "stream",
          "text": [
            "170498071/170498071 [==============================] - 319s 2us/step\n"
          ]
        }
      ],
      "source": [
        "cifar10 = ks.datasets.cifar10\n",
        "\n",
        "(x_train, y_train), (x_test, y_test) = cifar10.load_data()\n",
        "\n",
        "x_train, x_test = x_train / 255.0, x_test / 255.0\n",
        "y_train, y_test = y_train.flatten(), y_test.flatten()"
      ]
    },
    {
      "cell_type": "code",
      "execution_count": 18,
      "metadata": {},
      "outputs": [
        {
          "data": {
            "text/plain": [
              "array([3, 8, 8, ..., 5, 1, 7], dtype=uint8)"
            ]
          },
          "execution_count": 18,
          "metadata": {},
          "output_type": "execute_result"
        }
      ],
      "source": [
        "# Comprobamos que correctamente se han descargado bien los sets, esperando un array de 1 dimension para y_test \n",
        "# y en el caso de x_test son un array de matrices de 3 dimensiones (corresponden a la informacion de cada imagen)\n",
        "y_test\n"
      ]
    },
    {
      "cell_type": "code",
      "execution_count": 22,
      "metadata": {},
      "outputs": [
        {
          "data": {
            "text/plain": [
              "array([[[[0.61960784, 0.43921569, 0.19215686],\n",
              "         [0.62352941, 0.43529412, 0.18431373],\n",
              "         [0.64705882, 0.45490196, 0.2       ],\n",
              "         ...,\n",
              "         [0.5372549 , 0.37254902, 0.14117647],\n",
              "         [0.49411765, 0.35686275, 0.14117647],\n",
              "         [0.45490196, 0.33333333, 0.12941176]],\n",
              "\n",
              "        [[0.59607843, 0.43921569, 0.2       ],\n",
              "         [0.59215686, 0.43137255, 0.15686275],\n",
              "         [0.62352941, 0.44705882, 0.17647059],\n",
              "         ...,\n",
              "         [0.53333333, 0.37254902, 0.12156863],\n",
              "         [0.49019608, 0.35686275, 0.1254902 ],\n",
              "         [0.46666667, 0.34509804, 0.13333333]],\n",
              "\n",
              "        [[0.59215686, 0.43137255, 0.18431373],\n",
              "         [0.59215686, 0.42745098, 0.12941176],\n",
              "         [0.61960784, 0.43529412, 0.14117647],\n",
              "         ...,\n",
              "         [0.54509804, 0.38431373, 0.13333333],\n",
              "         [0.50980392, 0.37254902, 0.13333333],\n",
              "         [0.47058824, 0.34901961, 0.12941176]],\n",
              "\n",
              "        ...,\n",
              "\n",
              "        [[0.26666667, 0.48627451, 0.69411765],\n",
              "         [0.16470588, 0.39215686, 0.58039216],\n",
              "         [0.12156863, 0.34509804, 0.5372549 ],\n",
              "         ...,\n",
              "         [0.14901961, 0.38039216, 0.57254902],\n",
              "         [0.05098039, 0.25098039, 0.42352941],\n",
              "         [0.15686275, 0.33333333, 0.49803922]],\n",
              "\n",
              "        [[0.23921569, 0.45490196, 0.65882353],\n",
              "         [0.19215686, 0.4       , 0.58039216],\n",
              "         [0.1372549 , 0.33333333, 0.51764706],\n",
              "         ...,\n",
              "         [0.10196078, 0.32156863, 0.50980392],\n",
              "         [0.11372549, 0.32156863, 0.49411765],\n",
              "         [0.07843137, 0.25098039, 0.41960784]],\n",
              "\n",
              "        [[0.21176471, 0.41960784, 0.62745098],\n",
              "         [0.21960784, 0.41176471, 0.58431373],\n",
              "         [0.17647059, 0.34901961, 0.51764706],\n",
              "         ...,\n",
              "         [0.09411765, 0.30196078, 0.48627451],\n",
              "         [0.13333333, 0.32941176, 0.50588235],\n",
              "         [0.08235294, 0.2627451 , 0.43137255]]],\n",
              "\n",
              "\n",
              "       [[[0.92156863, 0.92156863, 0.92156863],\n",
              "         [0.90588235, 0.90588235, 0.90588235],\n",
              "         [0.90980392, 0.90980392, 0.90980392],\n",
              "         ...,\n",
              "         [0.91372549, 0.91372549, 0.91372549],\n",
              "         [0.91372549, 0.91372549, 0.91372549],\n",
              "         [0.90980392, 0.90980392, 0.90980392]],\n",
              "\n",
              "        [[0.93333333, 0.93333333, 0.93333333],\n",
              "         [0.92156863, 0.92156863, 0.92156863],\n",
              "         [0.92156863, 0.92156863, 0.92156863],\n",
              "         ...,\n",
              "         [0.9254902 , 0.9254902 , 0.9254902 ],\n",
              "         [0.9254902 , 0.9254902 , 0.9254902 ],\n",
              "         [0.92156863, 0.92156863, 0.92156863]],\n",
              "\n",
              "        [[0.92941176, 0.92941176, 0.92941176],\n",
              "         [0.91764706, 0.91764706, 0.91764706],\n",
              "         [0.91764706, 0.91764706, 0.91764706],\n",
              "         ...,\n",
              "         [0.92156863, 0.92156863, 0.92156863],\n",
              "         [0.92156863, 0.92156863, 0.92156863],\n",
              "         [0.91764706, 0.91764706, 0.91764706]],\n",
              "\n",
              "        ...,\n",
              "\n",
              "        [[0.34117647, 0.38823529, 0.34901961],\n",
              "         [0.16862745, 0.2       , 0.14509804],\n",
              "         [0.0745098 , 0.09019608, 0.04313725],\n",
              "         ...,\n",
              "         [0.6627451 , 0.72156863, 0.70196078],\n",
              "         [0.71372549, 0.77254902, 0.75686275],\n",
              "         [0.7372549 , 0.79215686, 0.78823529]],\n",
              "\n",
              "        [[0.32156863, 0.37647059, 0.32156863],\n",
              "         [0.18039216, 0.22352941, 0.14117647],\n",
              "         [0.14117647, 0.17254902, 0.08627451],\n",
              "         ...,\n",
              "         [0.68235294, 0.74117647, 0.71764706],\n",
              "         [0.7254902 , 0.78431373, 0.76862745],\n",
              "         [0.73333333, 0.79215686, 0.78431373]],\n",
              "\n",
              "        [[0.33333333, 0.39607843, 0.3254902 ],\n",
              "         [0.24313725, 0.29411765, 0.18823529],\n",
              "         [0.22745098, 0.2627451 , 0.14901961],\n",
              "         ...,\n",
              "         [0.65882353, 0.71764706, 0.69803922],\n",
              "         [0.70588235, 0.76470588, 0.74901961],\n",
              "         [0.72941176, 0.78431373, 0.78039216]]],\n",
              "\n",
              "\n",
              "       [[[0.61960784, 0.74509804, 0.87058824],\n",
              "         [0.61960784, 0.73333333, 0.85490196],\n",
              "         [0.54509804, 0.65098039, 0.76078431],\n",
              "         ...,\n",
              "         [0.89411765, 0.90588235, 0.91764706],\n",
              "         [0.92941176, 0.9372549 , 0.95294118],\n",
              "         [0.93333333, 0.94509804, 0.96470588]],\n",
              "\n",
              "        [[0.66666667, 0.78431373, 0.89803922],\n",
              "         [0.6745098 , 0.78039216, 0.88627451],\n",
              "         [0.59215686, 0.69019608, 0.78823529],\n",
              "         ...,\n",
              "         [0.90980392, 0.90980392, 0.9254902 ],\n",
              "         [0.96470588, 0.96470588, 0.98039216],\n",
              "         [0.96470588, 0.96862745, 0.98431373]],\n",
              "\n",
              "        [[0.68235294, 0.78823529, 0.88235294],\n",
              "         [0.69019608, 0.78431373, 0.87058824],\n",
              "         [0.61568627, 0.70196078, 0.78039216],\n",
              "         ...,\n",
              "         [0.90196078, 0.89803922, 0.90980392],\n",
              "         [0.98039216, 0.97647059, 0.98431373],\n",
              "         [0.96078431, 0.95686275, 0.96862745]],\n",
              "\n",
              "        ...,\n",
              "\n",
              "        [[0.12156863, 0.15686275, 0.17647059],\n",
              "         [0.11764706, 0.15294118, 0.17254902],\n",
              "         [0.10196078, 0.1372549 , 0.15686275],\n",
              "         ...,\n",
              "         [0.14509804, 0.15686275, 0.18039216],\n",
              "         [0.03529412, 0.05098039, 0.05490196],\n",
              "         [0.01568627, 0.02745098, 0.01960784]],\n",
              "\n",
              "        [[0.09019608, 0.13333333, 0.15294118],\n",
              "         [0.10588235, 0.14901961, 0.16862745],\n",
              "         [0.09803922, 0.14117647, 0.16078431],\n",
              "         ...,\n",
              "         [0.0745098 , 0.07843137, 0.09411765],\n",
              "         [0.01568627, 0.02352941, 0.01176471],\n",
              "         [0.01960784, 0.02745098, 0.01176471]],\n",
              "\n",
              "        [[0.10980392, 0.16078431, 0.18431373],\n",
              "         [0.11764706, 0.16862745, 0.19607843],\n",
              "         [0.1254902 , 0.17647059, 0.20392157],\n",
              "         ...,\n",
              "         [0.01960784, 0.02352941, 0.03137255],\n",
              "         [0.01568627, 0.01960784, 0.01176471],\n",
              "         [0.02745098, 0.03137255, 0.02745098]]],\n",
              "\n",
              "\n",
              "       ...,\n",
              "\n",
              "\n",
              "       [[[0.07843137, 0.05882353, 0.04705882],\n",
              "         [0.0745098 , 0.05490196, 0.04313725],\n",
              "         [0.05882353, 0.05490196, 0.04313725],\n",
              "         ...,\n",
              "         [0.03921569, 0.03529412, 0.02745098],\n",
              "         [0.04705882, 0.04313725, 0.03529412],\n",
              "         [0.05098039, 0.04705882, 0.03921569]],\n",
              "\n",
              "        [[0.08235294, 0.0627451 , 0.05098039],\n",
              "         [0.07843137, 0.0627451 , 0.05098039],\n",
              "         [0.07058824, 0.06666667, 0.04705882],\n",
              "         ...,\n",
              "         [0.03921569, 0.03529412, 0.02745098],\n",
              "         [0.03921569, 0.03529412, 0.02745098],\n",
              "         [0.04705882, 0.04313725, 0.03529412]],\n",
              "\n",
              "        [[0.08235294, 0.0627451 , 0.05098039],\n",
              "         [0.08235294, 0.06666667, 0.04705882],\n",
              "         [0.07843137, 0.07058824, 0.04313725],\n",
              "         ...,\n",
              "         [0.04705882, 0.04313725, 0.03529412],\n",
              "         [0.04705882, 0.04313725, 0.03529412],\n",
              "         [0.05098039, 0.04705882, 0.03921569]],\n",
              "\n",
              "        ...,\n",
              "\n",
              "        [[0.12941176, 0.09803922, 0.05098039],\n",
              "         [0.13333333, 0.10196078, 0.05882353],\n",
              "         [0.13333333, 0.10196078, 0.05882353],\n",
              "         ...,\n",
              "         [0.10980392, 0.09803922, 0.20392157],\n",
              "         [0.11372549, 0.09803922, 0.22745098],\n",
              "         [0.09019608, 0.07843137, 0.16470588]],\n",
              "\n",
              "        [[0.12941176, 0.09803922, 0.05490196],\n",
              "         [0.13333333, 0.10196078, 0.05882353],\n",
              "         [0.13333333, 0.10196078, 0.05882353],\n",
              "         ...,\n",
              "         [0.10588235, 0.09411765, 0.20392157],\n",
              "         [0.10588235, 0.09411765, 0.21960784],\n",
              "         [0.09803922, 0.08627451, 0.18431373]],\n",
              "\n",
              "        [[0.12156863, 0.09019608, 0.04705882],\n",
              "         [0.1254902 , 0.09411765, 0.05098039],\n",
              "         [0.12941176, 0.09803922, 0.05490196],\n",
              "         ...,\n",
              "         [0.09411765, 0.09019608, 0.19607843],\n",
              "         [0.10196078, 0.09019608, 0.20784314],\n",
              "         [0.09803922, 0.07843137, 0.18431373]]],\n",
              "\n",
              "\n",
              "       [[[0.09803922, 0.15686275, 0.04705882],\n",
              "         [0.05882353, 0.14117647, 0.01176471],\n",
              "         [0.09019608, 0.16078431, 0.07058824],\n",
              "         ...,\n",
              "         [0.23921569, 0.32156863, 0.30588235],\n",
              "         [0.36078431, 0.44313725, 0.43921569],\n",
              "         [0.29411765, 0.34901961, 0.36078431]],\n",
              "\n",
              "        [[0.04705882, 0.09803922, 0.02352941],\n",
              "         [0.07843137, 0.14509804, 0.02745098],\n",
              "         [0.09411765, 0.14117647, 0.05882353],\n",
              "         ...,\n",
              "         [0.45098039, 0.5254902 , 0.54117647],\n",
              "         [0.58431373, 0.65882353, 0.69411765],\n",
              "         [0.40784314, 0.45882353, 0.51372549]],\n",
              "\n",
              "        [[0.04705882, 0.09803922, 0.04313725],\n",
              "         [0.05882353, 0.11372549, 0.02352941],\n",
              "         [0.13333333, 0.15686275, 0.09411765],\n",
              "         ...,\n",
              "         [0.60392157, 0.6745098 , 0.71372549],\n",
              "         [0.61568627, 0.68627451, 0.75294118],\n",
              "         [0.45490196, 0.50588235, 0.59215686]],\n",
              "\n",
              "        ...,\n",
              "\n",
              "        [[0.39215686, 0.50588235, 0.31764706],\n",
              "         [0.40392157, 0.51764706, 0.32941176],\n",
              "         [0.40784314, 0.5254902 , 0.3372549 ],\n",
              "         ...,\n",
              "         [0.38039216, 0.50196078, 0.32941176],\n",
              "         [0.38431373, 0.49411765, 0.32941176],\n",
              "         [0.35686275, 0.4745098 , 0.30980392]],\n",
              "\n",
              "        [[0.40392157, 0.51764706, 0.3254902 ],\n",
              "         [0.40784314, 0.51372549, 0.3254902 ],\n",
              "         [0.41960784, 0.52941176, 0.34117647],\n",
              "         ...,\n",
              "         [0.39607843, 0.51764706, 0.34117647],\n",
              "         [0.38823529, 0.49803922, 0.32941176],\n",
              "         [0.36078431, 0.4745098 , 0.30980392]],\n",
              "\n",
              "        [[0.37254902, 0.49411765, 0.30588235],\n",
              "         [0.37254902, 0.48235294, 0.29803922],\n",
              "         [0.39607843, 0.50196078, 0.31764706],\n",
              "         ...,\n",
              "         [0.36470588, 0.48627451, 0.31372549],\n",
              "         [0.37254902, 0.48235294, 0.31764706],\n",
              "         [0.36078431, 0.47058824, 0.31372549]]],\n",
              "\n",
              "\n",
              "       [[[0.28627451, 0.30588235, 0.29411765],\n",
              "         [0.38431373, 0.40392157, 0.44313725],\n",
              "         [0.38823529, 0.41568627, 0.44705882],\n",
              "         ...,\n",
              "         [0.52941176, 0.58823529, 0.59607843],\n",
              "         [0.52941176, 0.58431373, 0.60392157],\n",
              "         [0.79607843, 0.84313725, 0.8745098 ]],\n",
              "\n",
              "        [[0.27058824, 0.28627451, 0.2745098 ],\n",
              "         [0.32941176, 0.34901961, 0.38039216],\n",
              "         [0.26666667, 0.29411765, 0.31764706],\n",
              "         ...,\n",
              "         [0.33333333, 0.37254902, 0.34901961],\n",
              "         [0.27843137, 0.32156863, 0.31372549],\n",
              "         [0.47058824, 0.52156863, 0.52941176]],\n",
              "\n",
              "        [[0.27058824, 0.28627451, 0.2745098 ],\n",
              "         [0.35294118, 0.37254902, 0.39215686],\n",
              "         [0.24313725, 0.27843137, 0.29019608],\n",
              "         ...,\n",
              "         [0.29019608, 0.31764706, 0.2745098 ],\n",
              "         [0.20784314, 0.24313725, 0.21176471],\n",
              "         [0.24313725, 0.29019608, 0.27058824]],\n",
              "\n",
              "        ...,\n",
              "\n",
              "        [[0.48235294, 0.50196078, 0.37647059],\n",
              "         [0.51764706, 0.51764706, 0.4       ],\n",
              "         [0.50588235, 0.50196078, 0.39215686],\n",
              "         ...,\n",
              "         [0.42352941, 0.41960784, 0.34509804],\n",
              "         [0.24313725, 0.23529412, 0.21568627],\n",
              "         [0.10588235, 0.10588235, 0.10980392]],\n",
              "\n",
              "        [[0.45098039, 0.4745098 , 0.35686275],\n",
              "         [0.48235294, 0.48627451, 0.37254902],\n",
              "         [0.50588235, 0.49411765, 0.38823529],\n",
              "         ...,\n",
              "         [0.45098039, 0.45490196, 0.36862745],\n",
              "         [0.25882353, 0.25490196, 0.23137255],\n",
              "         [0.10588235, 0.10588235, 0.10588235]],\n",
              "\n",
              "        [[0.45490196, 0.47058824, 0.35294118],\n",
              "         [0.4745098 , 0.47843137, 0.36862745],\n",
              "         [0.50588235, 0.50196078, 0.39607843],\n",
              "         ...,\n",
              "         [0.45490196, 0.45098039, 0.36862745],\n",
              "         [0.26666667, 0.25490196, 0.22745098],\n",
              "         [0.10588235, 0.10196078, 0.10196078]]]])"
            ]
          },
          "execution_count": 22,
          "metadata": {},
          "output_type": "execute_result"
        }
      ],
      "source": [
        "x_test"
      ]
    },
    {
      "cell_type": "code",
      "execution_count": 21,
      "metadata": {},
      "outputs": [],
      "source": [
        "# Acorde con la informacion en la web de keras, los label son los siguientes y corresponderian a una serie de \n",
        "# numeros del 0 al 9 (los componentes de nuestro y_train e y_test)\n",
        "\n",
        "cifar10_labels = [\n",
        "'airplane', # id 0\n",
        "'automobile',# id 1\n",
        "'bird',#...\n",
        "'cat',\n",
        "'deer',\n",
        "'dog',\n",
        "'frog',\n",
        "'horse',\n",
        "'ship',\n",
        "'truck', #id 9\n",
        "]\n",
        "\n"
      ]
    },
    {
      "cell_type": "code",
      "execution_count": 26,
      "metadata": {},
      "outputs": [
        {
          "name": "stdout",
          "output_type": "stream",
          "text": [
            "Train: X=(50000, 32, 32, 3), y=(50000,)\n",
            "Test: X=(10000, 32, 32, 3), y=(10000,)\n"
          ]
        },
        {
          "data": {
            "image/png": "[encoded data removed]",
            "text/plain": [
              "<Figure size 640x480 with 9 Axes>"
            ]
          },
          "metadata": {},
          "output_type": "display_data"
        }
      ],
      "source": [
        "# Pintemos una muestra de las las imagenes del dataset\n",
        "\n",
        "print('Train: X=%s, y=%s' % (x_train.shape, y_train.shape))\n",
        "print('Test: X=%s, y=%s' % (x_test.shape, y_test.shape))\n",
        "\n",
        "for i in range(9):\n",
        "\n",
        "    plt.subplot(330 + 1 + i)\n",
        "    plt.imshow(x_train[i])\n",
        "    plt.title(cifar10_labels[y_train[i]])\n",
        "\n",
        "plt.subplots_adjust(hspace = 1)\n",
        "plt.show()"
      ]
    },
    {
      "cell_type": "code",
      "execution_count": 27,
      "metadata": {},
      "outputs": [],
      "source": [
        "# Como vamos a querer ir haciendo validación a la vez que entrenamos, extraemos 10.000 imagenes  para la validacion\n",
        "x_val = x_train[-10000:]\n",
        "y_val = y_train[-10000:]\n",
        "\n",
        "x_train = x_train[:-10000]\n",
        "y_train = y_train[:-10000]\n"
      ]
    },
    {
      "cell_type": "markdown",
      "metadata": {},
      "source": [
        "Validamos que hemos extraido correctamente los sets de entrenamiento, validacion y test. Asi como su formato (deberiamos recibir imagenes de 32x32 a 3 canales (RGB)). Esto es imporante ya que las redes convolucionales esperan la entrada de 4 parametros.\n"
      ]
    },
    {
      "cell_type": "code",
      "execution_count": 28,
      "metadata": {},
      "outputs": [
        {
          "name": "stdout",
          "output_type": "stream",
          "text": [
            "Train: X=(40000, 32, 32, 3), y=(40000,)\n",
            "Test: X=(10000, 32, 32, 3), y=(10000,)\n",
            "Validation: X=(10000, 32, 32, 3), y=(10000,)\n"
          ]
        }
      ],
      "source": [
        "# Validamos el resultado\n",
        "print('Train: X=%s, y=%s' % (x_train.shape, y_train.shape))\n",
        "print('Test: X=%s, y=%s' % (x_test.shape, y_test.shape))\n",
        "print('Validation: X=%s, y=%s' % (x_val.shape, y_val.shape))\n",
        "\n",
        "# Correcto"
      ]
    },
    {
      "cell_type": "markdown",
      "metadata": {
        "id": "6_dptlpJ9oJp"
      },
      "source": [
        "\n",
        "<a id='seccion3'></a>\n",
        "# **3. Arquitectura neuronal del modelo**\n",
        "<hr style=\"height:5px;border-width:0;color:orange;background-color:orange\">"
      ]
    },
    {
      "cell_type": "markdown",
      "metadata": {},
      "source": [
        "<div style=\"text-align:center\"><img src=\"resumen_arquitectura.JPG\" /></div>\n"
      ]
    },
    {
      "cell_type": "markdown",
      "metadata": {},
      "source": [
        "## **Parametros a ajustar del modelo:**\n",
        "- #### **Capas:**\n",
        "    - Nº Neuronas: cuantas mas neuronas mas compleja será nuestra red neuronal pero más tiempo de cómputo requerirá\n",
        "    - Nº Capas: determina la profundidad y la capacidad de aprendizaje de la red.\n",
        "- #### **Tipo de capa** \n",
        "    - Densa: cada neurona está conectada a todas las neuronas de la capa anterior\n",
        "    - Convolucional: utiliza filtros para extraer características espaciales de las imágenes, con parámetros como el tamaño del kernel.\n",
        "- #### **Funcion activadora por capa:**\n",
        "    - ReLu : activación rectificada linealmente, utilizada en capas ocultas\n",
        "    - Linerar: función identidad, utilizada en capas de salida para problemas de regresión, en este acaso no\n",
        "    - Softmax: tilizada en la capa de salida para problemas de clasificación multiclase, normaliza las salidas para representar probabilidades. En este caso usaremos 10 neuronas ya que tenemos 10 clases a clasificar\n",
        "- #### **Batchsize:** determina el número de muestras que se utilizan en cada iteración durante el entrenamiento.\n",
        "- #### **Epochs:** número de veces que el algoritmo de entrenamiento recorre el conjunto de datos completo.\n",
        "- #### **Optimizador:** algoritmo utilizado para minimizar la función de pérdida durante el entrenamiento.\n",
        "    - Adam, SGD, otros. Adam es popular por su adaptabilidad del learning rate y la SGD es el método básico de descenso de gradiente estocástico.\n",
        "Learning rate y decay: controlan el tamaño del paso durante la optimización.\n",
        "    - Learning rate y decay: controlan el tamaño del paso durante la optimización\n",
        "- #### **Funcion error:** como es un problema de clasificación usaremos la métrica Cross-Entropy Loss\n",
        "- #### **Prevencion Overfitting**:\n",
        "    - Dropout: \"apagamos\" neuronas durante el entrenamiento para evitar el sobreajuste.\n",
        "    - Normalización: como Batch Normalization, para estandarizar la entrada de cada capa y estabilizar el proceso de entrenamiento.\n",
        "    - Regularización: la usaremos para penalizar los coeficientes grandes y evitar el sobreajuste (L2).\n",
        "    - Data augmentation: usaremos esta técnica para aumentar el tamaño del conjunto de datos mediante la generación de nuevas muestras a partir de las existentes \n",
        "\n"
      ]
    },
    {
      "cell_type": "markdown",
      "metadata": {
        "id": "y1NOuGvOIGYT"
      },
      "source": [
        "Capa de salida con funcion de activacion softmax ya que tenemos una clasificacion multiclase, utilizando 10 neuoronas ya que tenemos 10 clases a clasificar."
      ]
    },
    {
      "cell_type": "code",
      "execution_count": 9,
      "metadata": {},
      "outputs": [],
      "source": [
        "model = ks.Sequential()\n",
        "\n",
        "model.add(ks.layers.Conv2D(filters=32, kernel_size=(3, 3),strides=(1, 1), activation='relu',\n",
        "                              padding=\"same\",input_shape=(32, 32, 3)))\n",
        "model.add(ks.layers.Conv2D(filters=142, kernel_size=(3, 3),strides=(1, 1), activation='relu',\n",
        "                              padding=\"same\",input_shape=(32, 32, 3)))\n",
        "model.add(ks.layers.BatchNormalization())\n",
        "model.add(ks.layers.MaxPooling2D(pool_size=(2, 2)))\n",
        "model.add(ks.layers.Dropout(0.25))\n",
        "\n",
        "\n",
        "model.add(ks.layers.Conv2D(filters=364, kernel_size=(3, 3),strides=(1, 1), activation='relu',\n",
        "                              padding=\"same\",))\n",
        "model.add(ks.layers.Conv2D(filters=594, kernel_size=(3, 3),strides=(1, 1), activation='relu',\n",
        "                              padding=\"same\",))\n",
        "model.add(ks.layers.BatchNormalization())\n",
        "model.add(ks.layers.MaxPooling2D(pool_size=(2, 2)))\n",
        "model.add(ks.layers.Dropout(0.25))\n",
        "\n",
        "model.add(ks.layers.Conv2D(filters=864, kernel_size=(4, 4),strides=(1, 1), activation='relu',\n",
        "                              padding=\"same\",))\n",
        "model.add(ks.layers.Conv2D(filters=1664, kernel_size=(4, 4),strides=(1, 1), activation='relu',\n",
        "                              padding=\"same\",))\n",
        "model.add(ks.layers.MaxPooling2D(pool_size=(2, 2)))\n",
        "model.add(ks.layers.Dropout(0.4))\n",
        "\n",
        "\n",
        "model.add(ks.layers.Flatten())\n",
        "model.add(ks.layers.Dense(628, activation='relu'))\n",
        "model.add(ks.layers.Dense(328, activation='relu',kernel_regularizer=regularizers.l2(0.01)))\n",
        "model.add(ks.layers.BatchNormalization())\n",
        "model.add(ks.layers.Dropout(0.5))\n",
        "model.add(ks.layers.Dense(38, activation='relu', kernel_regularizer=regularizers.l2(0.01)))\n",
        "\n",
        "model.add(ks.layers.Dense(10, activation='softmax'))"
      ]
    },
    {
      "cell_type": "markdown",
      "metadata": {
        "id": "rhpzEhLy9oJq"
      },
      "source": [
        "Para revisar un modelo, nos basta con llamar al método **.summary()** del modelo"
      ]
    },
    {
      "cell_type": "code",
      "execution_count": 11,
      "metadata": {
        "colab": {
          "base_uri": "https://localhost:8080/"
        },
        "id": "QPzKurY89oJq",
        "outputId": "733d9965-4e02-439f-a3f6-cdbb653b1692"
      },
      "outputs": [
        {
          "name": "stdout",
          "output_type": "stream",
          "text": [
            "Model: \"sequential_3\"\n",
            "_________________________________________________________________\n",
            " Layer (type)                Output Shape              Param #   \n",
            "=================================================================\n",
            " conv2d_18 (Conv2D)          (None, 32, 32, 32)        896       \n",
            "                                                                 \n",
            " conv2d_19 (Conv2D)          (None, 32, 32, 142)       41038     \n",
            "                                                                 \n",
            " batch_normalization_6 (Bat  (None, 32, 32, 142)       568       \n",
            " chNormalization)                                                \n",
            "                                                                 \n",
            " max_pooling2d_9 (MaxPoolin  (None, 16, 16, 142)       0         \n",
            " g2D)                                                            \n",
            "                                                                 \n",
            " dropout_9 (Dropout)         (None, 16, 16, 142)       0         \n",
            "                                                                 \n",
            " conv2d_20 (Conv2D)          (None, 16, 16, 364)       465556    \n",
            "                                                                 \n",
            " conv2d_21 (Conv2D)          (None, 16, 16, 594)       1946538   \n",
            "                                                                 \n",
            " batch_normalization_7 (Bat  (None, 16, 16, 594)       2376      \n",
            " chNormalization)                                                \n",
            "                                                                 \n",
            " max_pooling2d_10 (MaxPooli  (None, 8, 8, 594)         0         \n",
            " ng2D)                                                           \n",
            "                                                                 \n",
            " dropout_10 (Dropout)        (None, 8, 8, 594)         0         \n",
            "                                                                 \n",
            " conv2d_22 (Conv2D)          (None, 8, 8, 864)         8212320   \n",
            "                                                                 \n",
            " conv2d_23 (Conv2D)          (None, 8, 8, 1664)        23004800  \n",
            "                                                                 \n",
            " max_pooling2d_11 (MaxPooli  (None, 4, 4, 1664)        0         \n",
            " ng2D)                                                           \n",
            "                                                                 \n",
            " dropout_11 (Dropout)        (None, 4, 4, 1664)        0         \n",
            "                                                                 \n",
            " flatten_3 (Flatten)         (None, 26624)             0         \n",
            "                                                                 \n",
            " dense_6 (Dense)             (None, 628)               16720500  \n",
            "                                                                 \n",
            " dense_7 (Dense)             (None, 328)               206312    \n",
            "                                                                 \n",
            " batch_normalization_8 (Bat  (None, 328)               1312      \n",
            " chNormalization)                                                \n",
            "                                                                 \n",
            " dropout_12 (Dropout)        (None, 328)               0         \n",
            "                                                                 \n",
            " dense_8 (Dense)             (None, 38)                12502     \n",
            "                                                                 \n",
            " dense_9 (Dense)             (None, 10)                390       \n",
            "                                                                 \n",
            "=================================================================\n",
            "Total params: 50615108 (193.08 MB)\n",
            "Trainable params: 50612980 (193.07 MB)\n",
            "Non-trainable params: 2128 (8.31 KB)\n",
            "_________________________________________________________________\n"
          ]
        }
      ],
      "source": [
        "model.summary()"
      ]
    },
    {
      "cell_type": "markdown",
      "metadata": {
        "id": "Y6bEaf7l9oJq"
      },
      "source": [
        "\n",
        "## **3.2 Optimizador, función error**\n",
        "\n"
      ]
    },
    {
      "cell_type": "markdown",
      "metadata": {},
      "source": [
        "En el caso de la función de perdida utilizaremos Cross-Entropy Loss ya que se trata de un problema de clasificación. Si fuera regresión u otro usaríamos MSE.\n",
        "Respecto al optimizador usaremos Adam ya que es un optimizador popular en modelos de clasificación de visión por computadora debido a su adaptabilidad y eficiencia. \n",
        "\n",
        "La ventaja respecto a RMS es que ajusta automáticamente la tasa de aprendizaje para cada parámetro, lo que permite una convergencia más rápida y una optimización eficiente. Tambien tiene capacidad de regularizacion lo cual ayuda a prevenirle sobreajuste. "
      ]
    },
    {
      "cell_type": "code",
      "execution_count": null,
      "metadata": {},
      "outputs": [],
      "source": [
        "\n",
        "# Ajustamos parametros\n",
        "new_adam = Adam(learning_rate=3e-4) # Adam por defecto es lr = 0.01\n",
        "\n",
        "\n",
        "model.compile(optimizer=new_adam,\n",
        "              loss='sparse_categorical_crossentropy', \n",
        "              metrics=['accuracy'])"
      ]
    },
    {
      "cell_type": "markdown",
      "metadata": {},
      "source": [
        "<a id='seccion4'></a>\n",
        "# **4. Entrenamiento**\n",
        "<hr style=\"height:5px;border-width:0;color:orange;background-color:orange\">\n"
      ]
    },
    {
      "cell_type": "markdown",
      "metadata": {},
      "source": [
        "El entrenamiento se hace en Google Collab usando la GPU V100 de Nvidia. Segun he podido probar es unas 7 veces más rapida que la T4 que ofrecen preseleccionada.\n",
        "\n",
        "El tiempo de entrenamiento ha sido de 2h y 20 min aprox.\n",
        "\n",
        "Configuaramos un sistema de eraly stopping que pare el procesamiento cuando no exista mejoria en el accuracy. Es aqui en este punto cuando implementamos un Data Augmentation para evitar el sobreajuste y que el modelo generalice mejor."
      ]
    },
    {
      "cell_type": "code",
      "execution_count": null,
      "metadata": {},
      "outputs": [],
      "source": [
        "# montamos cronometro para calcular el tiempo de entrenamiento (importante para los recursos)\n",
        "t = time.perf_counter()"
      ]
    },
    {
      "cell_type": "code",
      "execution_count": null,
      "metadata": {},
      "outputs": [],
      "source": [
        "# Configuramos callbacks para para el entrenamiento si no mejora despues de 25 epochs\n",
        "callback_val_loss = EarlyStopping(monitor=\"val_loss\", patience=25)\n",
        "callback_val_accuracy = EarlyStopping(monitor=\"val_accuracy\", patience=25)\n"
      ]
    },
    {
      "cell_type": "code",
      "execution_count": null,
      "metadata": {},
      "outputs": [
        {
          "name": "stdout",
          "output_type": "stream",
          "text": [
            "Epoch 1/300\n",
            "1250/1250 [==============================] - 92s 65ms/step - loss: 3.4892 - accuracy: 0.2305 - val_loss: 2.2918 - val_accuracy: 0.3334\n",
            "Epoch 2/300\n",
            "1250/1250 [==============================] - 79s 63ms/step - loss: 2.0605 - accuracy: 0.3530 - val_loss: 2.9781 - val_accuracy: 0.2876\n",
            "Epoch 3/300\n",
            "1250/1250 [==============================] - 84s 67ms/step - loss: 1.7612 - accuracy: 0.4042 - val_loss: 1.5756 - val_accuracy: 0.4613\n",
            "Epoch 4/300\n",
            "1250/1250 [==============================] - 79s 63ms/step - loss: 1.5426 - accuracy: 0.4704 - val_loss: 1.4239 - val_accuracy: 0.5036\n",
            "Epoch 5/300\n",
            "1250/1250 [==============================] - 84s 67ms/step - loss: 1.3807 - accuracy: 0.5271 - val_loss: 1.5041 - val_accuracy: 0.5261\n",
            "Epoch 6/300\n",
            "1250/1250 [==============================] - 79s 63ms/step - loss: 1.3712 - accuracy: 0.5256 - val_loss: 1.3407 - val_accuracy: 0.5448\n",
            "Epoch 7/300\n",
            "1250/1250 [==============================] - 79s 63ms/step - loss: 1.2273 - accuracy: 0.5796 - val_loss: 1.5650 - val_accuracy: 0.5224\n",
            "Epoch 8/300\n",
            "1250/1250 [==============================] - 84s 67ms/step - loss: 1.1928 - accuracy: 0.5934 - val_loss: 1.2301 - val_accuracy: 0.5999\n",
            "Epoch 9/300\n",
            "1250/1250 [==============================] - 84s 67ms/step - loss: 1.1152 - accuracy: 0.6259 - val_loss: 1.1928 - val_accuracy: 0.6104\n",
            "Epoch 10/300\n",
            "1250/1250 [==============================] - 84s 67ms/step - loss: 1.0504 - accuracy: 0.6464 - val_loss: 1.2071 - val_accuracy: 0.6011\n",
            "Epoch 11/300\n",
            "1250/1250 [==============================] - 84s 67ms/step - loss: 1.0211 - accuracy: 0.6616 - val_loss: 0.9966 - val_accuracy: 0.6739\n",
            "Epoch 12/300\n",
            "1250/1250 [==============================] - 79s 63ms/step - loss: 0.9591 - accuracy: 0.6857 - val_loss: 0.8695 - val_accuracy: 0.7193\n",
            "Epoch 13/300\n",
            "1250/1250 [==============================] - 84s 67ms/step - loss: 0.9177 - accuracy: 0.7005 - val_loss: 0.8682 - val_accuracy: 0.7204\n",
            "Epoch 14/300\n",
            "1250/1250 [==============================] - 79s 63ms/step - loss: 0.8758 - accuracy: 0.7169 - val_loss: 0.8648 - val_accuracy: 0.7166\n",
            "Epoch 15/300\n",
            "1250/1250 [==============================] - 79s 63ms/step - loss: 0.8408 - accuracy: 0.7295 - val_loss: 0.9283 - val_accuracy: 0.7037\n",
            "Epoch 16/300\n",
            "1250/1250 [==============================] - 79s 63ms/step - loss: 0.8063 - accuracy: 0.7416 - val_loss: 0.8224 - val_accuracy: 0.7417\n",
            "Epoch 17/300\n",
            "1250/1250 [==============================] - 79s 63ms/step - loss: 0.7898 - accuracy: 0.7447 - val_loss: 0.8708 - val_accuracy: 0.7279\n",
            "Epoch 18/300\n",
            "1250/1250 [==============================] - 84s 67ms/step - loss: 0.7539 - accuracy: 0.7601 - val_loss: 0.7117 - val_accuracy: 0.7733\n",
            "Epoch 19/300\n",
            "1250/1250 [==============================] - 84s 67ms/step - loss: 0.7359 - accuracy: 0.7656 - val_loss: 0.7293 - val_accuracy: 0.7685\n",
            "Epoch 20/300\n",
            "1250/1250 [==============================] - 79s 63ms/step - loss: 0.7105 - accuracy: 0.7756 - val_loss: 0.9061 - val_accuracy: 0.7266\n",
            "Epoch 21/300\n",
            "1250/1250 [==============================] - 84s 67ms/step - loss: 0.6905 - accuracy: 0.7814 - val_loss: 0.7740 - val_accuracy: 0.7635\n",
            "Epoch 22/300\n",
            "1250/1250 [==============================] - 84s 67ms/step - loss: 0.6679 - accuracy: 0.7868 - val_loss: 0.7128 - val_accuracy: 0.7797\n",
            "Epoch 23/300\n",
            "1250/1250 [==============================] - 79s 64ms/step - loss: 0.6500 - accuracy: 0.7932 - val_loss: 0.6814 - val_accuracy: 0.7881\n",
            "Epoch 24/300\n",
            "1250/1250 [==============================] - 79s 63ms/step - loss: 0.6331 - accuracy: 0.7999 - val_loss: 0.6353 - val_accuracy: 0.8035\n",
            "Epoch 25/300\n",
            "1250/1250 [==============================] - 84s 67ms/step - loss: 0.6173 - accuracy: 0.8055 - val_loss: 0.7174 - val_accuracy: 0.7876\n",
            "Epoch 26/300\n",
            "1250/1250 [==============================] - 84s 67ms/step - loss: 0.6044 - accuracy: 0.8095 - val_loss: 0.7334 - val_accuracy: 0.7753\n",
            "Epoch 27/300\n",
            "1250/1250 [==============================] - 84s 67ms/step - loss: 0.5855 - accuracy: 0.8162 - val_loss: 0.6636 - val_accuracy: 0.7956\n",
            "Epoch 28/300\n",
            "1250/1250 [==============================] - 84s 67ms/step - loss: 0.5778 - accuracy: 0.8166 - val_loss: 0.5663 - val_accuracy: 0.8226\n",
            "Epoch 29/300\n",
            "1250/1250 [==============================] - 79s 64ms/step - loss: 0.5567 - accuracy: 0.8254 - val_loss: 0.7221 - val_accuracy: 0.7771\n",
            "Epoch 30/300\n",
            "1250/1250 [==============================] - 84s 67ms/step - loss: 0.5483 - accuracy: 0.8265 - val_loss: 0.6480 - val_accuracy: 0.8024\n",
            "Epoch 31/300\n",
            "1250/1250 [==============================] - 84s 67ms/step - loss: 0.5457 - accuracy: 0.8301 - val_loss: 0.6098 - val_accuracy: 0.8098\n",
            "Epoch 32/300\n",
            "1250/1250 [==============================] - 79s 63ms/step - loss: 0.5298 - accuracy: 0.8354 - val_loss: 0.6280 - val_accuracy: 0.8112\n",
            "Epoch 33/300\n",
            "1250/1250 [==============================] - 84s 67ms/step - loss: 0.5171 - accuracy: 0.8392 - val_loss: 0.5388 - val_accuracy: 0.8350\n",
            "Epoch 34/300\n",
            "1250/1250 [==============================] - 79s 63ms/step - loss: 0.5456 - accuracy: 0.8291 - val_loss: 0.6034 - val_accuracy: 0.8155\n",
            "Epoch 35/300\n",
            "1250/1250 [==============================] - 84s 67ms/step - loss: 0.5145 - accuracy: 0.8379 - val_loss: 0.6423 - val_accuracy: 0.8080\n",
            "Epoch 36/300\n",
            "1250/1250 [==============================] - 79s 63ms/step - loss: 0.4830 - accuracy: 0.8514 - val_loss: 0.5359 - val_accuracy: 0.8363\n",
            "Epoch 37/300\n",
            "1250/1250 [==============================] - 84s 67ms/step - loss: 0.4800 - accuracy: 0.8533 - val_loss: 0.5688 - val_accuracy: 0.8259\n",
            "Epoch 38/300\n",
            "1250/1250 [==============================] - 84s 67ms/step - loss: 0.4716 - accuracy: 0.8564 - val_loss: 0.5570 - val_accuracy: 0.8326\n",
            "Epoch 39/300\n",
            "1250/1250 [==============================] - 79s 63ms/step - loss: 0.4710 - accuracy: 0.8555 - val_loss: 0.6890 - val_accuracy: 0.7926\n",
            "Epoch 40/300\n",
            "1250/1250 [==============================] - 84s 67ms/step - loss: 0.4589 - accuracy: 0.8597 - val_loss: 0.6290 - val_accuracy: 0.8131\n",
            "Epoch 41/300\n",
            "1250/1250 [==============================] - 80s 64ms/step - loss: 0.4459 - accuracy: 0.8638 - val_loss: 0.5691 - val_accuracy: 0.8300\n",
            "Epoch 42/300\n",
            "1250/1250 [==============================] - 80s 64ms/step - loss: 0.4400 - accuracy: 0.8660 - val_loss: 0.5519 - val_accuracy: 0.8322\n",
            "Epoch 43/300\n",
            "1250/1250 [==============================] - 80s 64ms/step - loss: 0.4362 - accuracy: 0.8646 - val_loss: 0.6539 - val_accuracy: 0.8104\n",
            "Epoch 44/300\n",
            "1250/1250 [==============================] - 85s 68ms/step - loss: 0.4319 - accuracy: 0.8677 - val_loss: 0.5525 - val_accuracy: 0.8318\n",
            "Epoch 45/300\n",
            "1250/1250 [==============================] - 80s 64ms/step - loss: 0.4228 - accuracy: 0.8738 - val_loss: 0.5313 - val_accuracy: 0.8386\n",
            "Epoch 46/300\n",
            "1250/1250 [==============================] - 85s 68ms/step - loss: 0.4135 - accuracy: 0.8737 - val_loss: 0.5255 - val_accuracy: 0.8420\n",
            "Epoch 47/300\n",
            "1250/1250 [==============================] - 84s 68ms/step - loss: 0.4011 - accuracy: 0.8762 - val_loss: 0.5958 - val_accuracy: 0.8262\n",
            "Epoch 48/300\n",
            "1250/1250 [==============================] - 80s 64ms/step - loss: 0.4021 - accuracy: 0.8774 - val_loss: 0.6579 - val_accuracy: 0.8119\n",
            "Epoch 49/300\n",
            "1250/1250 [==============================] - 80s 64ms/step - loss: 0.4057 - accuracy: 0.8755 - val_loss: 0.5771 - val_accuracy: 0.8323\n",
            "Epoch 50/300\n",
            "1250/1250 [==============================] - 85s 68ms/step - loss: 0.3889 - accuracy: 0.8814 - val_loss: 0.5517 - val_accuracy: 0.8429\n",
            "Epoch 51/300\n",
            "1250/1250 [==============================] - 85s 68ms/step - loss: 0.3861 - accuracy: 0.8824 - val_loss: 0.5816 - val_accuracy: 0.8318\n",
            "Epoch 52/300\n",
            "1250/1250 [==============================] - 84s 68ms/step - loss: 0.3814 - accuracy: 0.8840 - val_loss: 0.5652 - val_accuracy: 0.8368\n",
            "Epoch 53/300\n",
            "1250/1250 [==============================] - 84s 68ms/step - loss: 0.3765 - accuracy: 0.8864 - val_loss: 0.5705 - val_accuracy: 0.8375\n",
            "Epoch 54/300\n",
            "1250/1250 [==============================] - 80s 64ms/step - loss: 0.3649 - accuracy: 0.8899 - val_loss: 0.5075 - val_accuracy: 0.8523\n",
            "Epoch 55/300\n",
            "1250/1250 [==============================] - 80s 64ms/step - loss: 0.3679 - accuracy: 0.8887 - val_loss: 0.5443 - val_accuracy: 0.8426\n",
            "Epoch 56/300\n",
            "1250/1250 [==============================] - 85s 68ms/step - loss: 0.3591 - accuracy: 0.8942 - val_loss: 0.5837 - val_accuracy: 0.8323\n",
            "Epoch 57/300\n",
            "1250/1250 [==============================] - 80s 64ms/step - loss: 0.3516 - accuracy: 0.8944 - val_loss: 0.4927 - val_accuracy: 0.8540\n",
            "Epoch 58/300\n",
            "1250/1250 [==============================] - 85s 68ms/step - loss: 0.3535 - accuracy: 0.8942 - val_loss: 0.5179 - val_accuracy: 0.8481\n",
            "Epoch 59/300\n",
            "1250/1250 [==============================] - 85s 68ms/step - loss: 0.3447 - accuracy: 0.8955 - val_loss: 0.5180 - val_accuracy: 0.8552\n",
            "Epoch 60/300\n",
            "1250/1250 [==============================] - 85s 68ms/step - loss: 0.3410 - accuracy: 0.8971 - val_loss: 0.5087 - val_accuracy: 0.8546\n",
            "Epoch 61/300\n",
            "1250/1250 [==============================] - 85s 68ms/step - loss: 0.3411 - accuracy: 0.8984 - val_loss: 0.5449 - val_accuracy: 0.8421\n",
            "Epoch 62/300\n",
            "1250/1250 [==============================] - 85s 68ms/step - loss: 0.3332 - accuracy: 0.8990 - val_loss: 0.5357 - val_accuracy: 0.8512\n",
            "Epoch 63/300\n",
            "1250/1250 [==============================] - 80s 64ms/step - loss: 0.3268 - accuracy: 0.9027 - val_loss: 0.5837 - val_accuracy: 0.8391\n",
            "Epoch 64/300\n",
            "1250/1250 [==============================] - 85s 68ms/step - loss: 0.3648 - accuracy: 0.8903 - val_loss: 0.6022 - val_accuracy: 0.8296\n",
            "Epoch 65/300\n",
            "1250/1250 [==============================] - 80s 64ms/step - loss: 0.3257 - accuracy: 0.9025 - val_loss: 0.4743 - val_accuracy: 0.8606\n",
            "Epoch 66/300\n",
            "1250/1250 [==============================] - 85s 68ms/step - loss: 0.3178 - accuracy: 0.9031 - val_loss: 0.6098 - val_accuracy: 0.8261\n",
            "Epoch 67/300\n",
            "1250/1250 [==============================] - 80s 64ms/step - loss: 0.3088 - accuracy: 0.9073 - val_loss: 0.5227 - val_accuracy: 0.8527\n",
            "Epoch 68/300\n",
            "1250/1250 [==============================] - 85s 68ms/step - loss: 0.3145 - accuracy: 0.9068 - val_loss: 0.4836 - val_accuracy: 0.8648\n",
            "Epoch 69/300\n",
            "1250/1250 [==============================] - 85s 68ms/step - loss: 0.3120 - accuracy: 0.9081 - val_loss: 0.5349 - val_accuracy: 0.8450\n",
            "Epoch 70/300\n",
            "1250/1250 [==============================] - 80s 64ms/step - loss: 0.3030 - accuracy: 0.9096 - val_loss: 0.5223 - val_accuracy: 0.8555\n",
            "Epoch 71/300\n",
            "1250/1250 [==============================] - 85s 68ms/step - loss: 0.3025 - accuracy: 0.9106 - val_loss: 0.5001 - val_accuracy: 0.8561\n",
            "Epoch 72/300\n",
            "1250/1250 [==============================] - 85s 68ms/step - loss: 0.2989 - accuracy: 0.9111 - val_loss: 0.5773 - val_accuracy: 0.8428\n",
            "Epoch 73/300\n",
            "1250/1250 [==============================] - 85s 68ms/step - loss: 0.2937 - accuracy: 0.9134 - val_loss: 0.4871 - val_accuracy: 0.8626\n",
            "Epoch 74/300\n",
            "1250/1250 [==============================] - 85s 68ms/step - loss: 0.2888 - accuracy: 0.9133 - val_loss: 0.4908 - val_accuracy: 0.8648\n",
            "Epoch 75/300\n",
            "1250/1250 [==============================] - 85s 68ms/step - loss: 0.2836 - accuracy: 0.9172 - val_loss: 0.5483 - val_accuracy: 0.8541\n",
            "Epoch 76/300\n",
            "1250/1250 [==============================] - 85s 68ms/step - loss: 0.2889 - accuracy: 0.9151 - val_loss: 0.5568 - val_accuracy: 0.8498\n",
            "Epoch 77/300\n",
            "1250/1250 [==============================] - 85s 68ms/step - loss: 0.2836 - accuracy: 0.9169 - val_loss: 0.4903 - val_accuracy: 0.8633\n",
            "Epoch 78/300\n",
            "1250/1250 [==============================] - 80s 64ms/step - loss: 0.2819 - accuracy: 0.9159 - val_loss: 0.5252 - val_accuracy: 0.8562\n",
            "Epoch 79/300\n",
            "1250/1250 [==============================] - 80s 64ms/step - loss: 0.2781 - accuracy: 0.9192 - val_loss: 0.4918 - val_accuracy: 0.8656\n",
            "Epoch 80/300\n",
            "1250/1250 [==============================] - 85s 68ms/step - loss: 0.2740 - accuracy: 0.9196 - val_loss: 0.5529 - val_accuracy: 0.8484\n",
            "Epoch 81/300\n",
            "1250/1250 [==============================] - 80s 64ms/step - loss: 0.2719 - accuracy: 0.9199 - val_loss: 0.4936 - val_accuracy: 0.8676\n",
            "Epoch 82/300\n",
            "1250/1250 [==============================] - 85s 68ms/step - loss: 0.2661 - accuracy: 0.9221 - val_loss: 0.5093 - val_accuracy: 0.8576\n",
            "Epoch 83/300\n",
            "1250/1250 [==============================] - 85s 68ms/step - loss: 0.2661 - accuracy: 0.9222 - val_loss: 0.5279 - val_accuracy: 0.8565\n",
            "Epoch 84/300\n",
            "1250/1250 [==============================] - 85s 68ms/step - loss: 0.2646 - accuracy: 0.9226 - val_loss: 0.5421 - val_accuracy: 0.8518\n",
            "Epoch 85/300\n",
            "1250/1250 [==============================] - 85s 68ms/step - loss: 0.2604 - accuracy: 0.9235 - val_loss: 0.5354 - val_accuracy: 0.8532\n",
            "Epoch 86/300\n",
            "1250/1250 [==============================] - 85s 68ms/step - loss: 0.2559 - accuracy: 0.9247 - val_loss: 0.5506 - val_accuracy: 0.8532\n",
            "Epoch 87/300\n",
            "1250/1250 [==============================] - 80s 64ms/step - loss: 0.2587 - accuracy: 0.9239 - val_loss: 0.5203 - val_accuracy: 0.8557\n",
            "Epoch 88/300\n",
            "1250/1250 [==============================] - 85s 68ms/step - loss: 0.2512 - accuracy: 0.9267 - val_loss: 0.5576 - val_accuracy: 0.8530\n",
            "Epoch 89/300\n",
            "1250/1250 [==============================] - 85s 68ms/step - loss: 0.2548 - accuracy: 0.9262 - val_loss: 0.5340 - val_accuracy: 0.8582\n",
            "Epoch 90/300\n",
            "1250/1250 [==============================] - 80s 64ms/step - loss: 0.2519 - accuracy: 0.9269 - val_loss: 0.5533 - val_accuracy: 0.8536\n"
          ]
        }
      ],
      "source": [
        "# Configuración de aumento de datos\n",
        "datagen = ImageDataGenerator(\n",
        "    rotation_range=40,\n",
        "    width_shift_range=0.2,\n",
        "    height_shift_range=0.2,\n",
        "    horizontal_flip=True,\n",
        "    vertical_flip=True,\n",
        "    zoom_range=0.01,\n",
        "    # brightness_range=(0.2,0.8)\n",
        "\n",
        ")\n",
        "\n",
        "# Entrenamiento del modelo con el generador de datos aumentados\n",
        "history = model.fit(datagen.flow(x_train, y_train, batch_size=32),            \n",
        "                    epochs=300,\n",
        "                    validation_data=(x_val, y_val),\n",
        "                    callbacks=[callback_val_loss, callback_val_accuracy])\n",
        "\n"
      ]
    },
    {
      "cell_type": "code",
      "execution_count": null,
      "metadata": {
        "colab": {
          "base_uri": "https://localhost:8080/"
        },
        "id": "OPFPUNcJ9oJu",
        "outputId": "6ee9ae05-69f6-489f-a3ff-45a9004b048a"
      },
      "outputs": [
        {
          "name": "stdout",
          "output_type": "stream",
          "text": [
            "Tiempo de entrenamiento: 2:19:25.263722\n"
          ]
        }
      ],
      "source": [
        "elapsed_time = datetime.timedelta(seconds=(time.perf_counter() - t))\n",
        "\n",
        "print('Tiempo de entrenamiento:', elapsed_time)"
      ]
    },
    {
      "cell_type": "markdown",
      "metadata": {
        "id": "n6Byf3JG9oJu"
      },
      "source": [
        "<a id='seccion5'></a>\n",
        "# **5. Evaluacion de los resultados**\n",
        "<hr style=\"height:5px;border-width:0;color:orange;background-color:orange\">"
      ]
    },
    {
      "cell_type": "markdown",
      "metadata": {},
      "source": [
        "\n",
        "Obtengamos una grafica de como el error y la accuracy van evolucionando en cada epoch en los datos de entrenamiento y en la validación"
      ]
    },
    {
      "cell_type": "code",
      "execution_count": null,
      "metadata": {
        "colab": {
          "base_uri": "https://localhost:8080/"
        },
        "id": "j9IaZ3-W9oJv",
        "outputId": "e7b656c5-9303-4cdb-b1ff-4c6fc7e51dc8"
      },
      "outputs": [
        {
          "name": "stdout",
          "output_type": "stream",
          "text": [
            "> 84.710\n"
          ]
        }
      ],
      "source": [
        "acc = model.evaluate(x_test, y_test, verbose=0)\n",
        "print('> %.3f' % (acc * 100.0))"
      ]
    },
    {
      "cell_type": "code",
      "execution_count": null,
      "metadata": {
        "colab": {
          "base_uri": "https://localhost:8080/",
          "height": 887
        },
        "id": "GrH8OFmF9oJv",
        "outputId": "c417ce7a-ba11-48e0-888b-62d43d54e9ad"
      },
      "outputs": [
        {
          "data": {
            "image/png": "[encoded data removed]",
            "text/plain": [
              "<Figure size 640x480 with 1 Axes>"
            ]
          },
          "metadata": {},
          "output_type": "display_data"
        },
        {
          "data": {
            "image/png": "[encoded data removed]",
            "text/plain": [
              "<Figure size 640x480 with 1 Axes>"
            ]
          },
          "metadata": {},
          "output_type": "display_data"
        }
      ],
      "source": [
        "plt.title('Cross Entropy Loss')\n",
        "plt.plot(history.history['loss'], color='blue', label='train')\n",
        "plt.plot(history.history['val_loss'], color='orange', label='val')\n",
        "plt.ylim(0, 3)\n",
        "plt.legend()\n",
        "plt.show()\n",
        "\n",
        "plt.title('Classification Accuracy')\n",
        "plt.plot(history.history['accuracy'], color='blue', label='train')\n",
        "plt.plot(history.history['val_accuracy'], color='orange', label='val')\n",
        "plt.ylim(0, 1)\n",
        "plt.legend()\n",
        "plt.show()"
      ]
    },
    {
      "cell_type": "markdown",
      "metadata": {
        "id": "BT7Xpz409oJv"
      },
      "source": [
        "El coste podemos ver que es estable y es en el epoch 15 que se fija en un valor. Además la accuracy baila alrededor de 0.10. No se puede decir que sea un modelo muy bueno.\n",
        "\n",
        "Veamos que tipo de predicciones estoy obteniendo sobre el conjunto de test (vamos a pintar las imagenes y sus clasificaciones)"
      ]
    },
    {
      "cell_type": "code",
      "execution_count": null,
      "metadata": {
        "id": "G4gqi32X9oJw"
      },
      "outputs": [],
      "source": [
        "predictions = model.predict(x_test)"
      ]
    },
    {
      "cell_type": "markdown",
      "metadata": {
        "id": "3blmpM1k9oJw"
      },
      "source": [
        "Una de las ventajas de Python es que hay montones de funciones y código realizado por terceras personas. Aquí me he fusilado unas bonitas funciones (que he adaptado un poco a mis necesidades) para poder pintar las imagenes, su label (ground truth) y las clasificaciones que hemos realizado."
      ]
    },
    {
      "cell_type": "code",
      "execution_count": null,
      "metadata": {
        "id": "CuZ6g28jO3p-"
      },
      "outputs": [],
      "source": [
        "def plot_image(i, predictions_array, true_label, img):\n",
        "  predictions_array, true_label, img = predictions_array, true_label[i], img[i]\n",
        "  plt.grid(False)\n",
        "  plt.xticks([])\n",
        "  plt.yticks([])\n",
        "\n",
        "  plt.imshow(img, cmap=plt.cm.binary)\n",
        "\n",
        "  predicted_label = np.argmax(predictions_array)\n",
        "  if predicted_label == true_label:\n",
        "    color = 'blue'\n",
        "  else:\n",
        "    color = 'red'\n",
        "\n",
        "  plt.xlabel(\"{} {:2.0f}% ({})\".format(predicted_label,\n",
        "                                100*np.max(predictions_array),\n",
        "                                true_label[0]),\n",
        "                                color=color)\n",
        "\n",
        "def plot_value_array(i, predictions_array, true_label):\n",
        "  predictions_array, true_label = predictions_array, true_label[i]\n",
        "  plt.grid(False)\n",
        "  plt.xticks(range(10))\n",
        "  plt.yticks([])\n",
        "  thisplot = plt.bar(range(10), predictions_array, color=\"#777777\")\n",
        "  plt.ylim([0, 1])\n",
        "  predicted_label = np.argmax(predictions_array)\n",
        "\n",
        "  thisplot[predicted_label].set_color('red')\n",
        "  thisplot[true_label[0]].set_color('blue')"
      ]
    },
    {
      "cell_type": "markdown",
      "metadata": {
        "id": "kCoAXQ6e9oJw"
      },
      "source": [
        "Dibujamos las primeras imagenes, con las predicciones y sus valores reales (un total de 20 imagenes, para no abusar de vuestros laptops)\n",
        "\n",
        "Coloreamos las prediciones correctas en azul y los fallos en rojo. Aunque primero he impreso las etiquetas para que tengamos una referencia al grafico."
      ]
    },
    {
      "cell_type": "code",
      "execution_count": null,
      "metadata": {
        "id": "2ybx-j58PDvi"
      },
      "outputs": [],
      "source": [
        "i = 0\n",
        "for l in cifar10_labels:\n",
        "    print(i, l)\n",
        "    i += 1\n",
        "\n",
        "num_rows = 5\n",
        "num_cols = 4\n",
        "start = 650\n",
        "num_images = num_rows*num_cols\n",
        "plt.figure(figsize=(2*2*num_cols, 2*num_rows))\n",
        "for i in range(num_images):\n",
        "  plt.subplot(num_rows, 2*num_cols, 2*i+1)\n",
        "  plot_image(i+start, predictions[i+start], y_test, x_test)\n",
        "  plt.subplot(num_rows, 2*num_cols, 2*i+2)\n",
        "  plot_value_array(i+start, predictions[i+start], y_test)\n",
        "plt.tight_layout()\n",
        "plt.show()"
      ]
    },
    {
      "cell_type": "markdown",
      "metadata": {
        "id": "_JU9pRS1iNJ2"
      },
      "source": [
        "## Guardamos el modelo para futuras evaluaciones"
      ]
    },
    {
      "cell_type": "code",
      "execution_count": null,
      "metadata": {
        "id": "wEaRpWif9oJx"
      },
      "outputs": [],
      "source": [
        "model.save('cifar10_base_model.h5')"
      ]
    },
    {
      "cell_type": "markdown",
      "metadata": {},
      "source": [
        "<a id='seccion6'></a>\n",
        "# **6. CONCLUSIONES**\n",
        "<hr style=\"height:5px;border-width:0;color:red;background-color:red\">\n",
        "\n",
        "Conseguido una accuracy de 84,71% con un modelo con poco overfitting.\n",
        "\n",
        "Creo real y posible llegar a mejores resultados pero esto llevaría mucho mas tiempo y recursos de computación (quisiera guardar los créditos de GPU para otro proyecto de Deep Learning relacionado con el campo de las ciencias medicas).\n",
        "\n",
        "La forma de optimizar seria ir probando cambios en la arquitectura como probar intercalar batch norm y dropout entre cada de las capas convolucionales, aumento complejidad de la red incluyendo mas bloques de convolución, aumento de filtros y variación de tamaño del kernel indistintamente.\n",
        "\n",
        "De tener tiempo y recursos ilimitados pondría en practica estas ideas para llegar a mejores resultados, pero como la vida misma, hay que elegir sabiamente donde destinamos nuestro tiempo, dinero y atención.\n",
        "\n",
        "Muchas gracias por tus clases Guille, de verdad las he disfrutado mucho tanto en contenido como en dinámica. Eres un profesor de calidad, estamos en contacto.\n"
      ]
    },
    {
      "cell_type": "code",
      "execution_count": null,
      "metadata": {
        "id": "RUeYZHYd9oJx"
      },
      "outputs": [],
      "source": []
    }
  ],
  "metadata": {
    "accelerator": "GPU",
    "colab": {
      "gpuType": "V100",
      "provenance": []
    },
    "kernelspec": {
      "display_name": "Python 3",
      "name": "python3"
    },
    "language_info": {
      "codemirror_mode": {
        "name": "ipython",
        "version": 3
      },
      "file_extension": ".py",
      "mimetype": "text/x-python",
      "name": "python",
      "nbconvert_exporter": "python",
      "pygments_lexer": "ipython3",
      "version": "3.11.5"
    }
  },
  "nbformat": 4,
  "nbformat_minor": 0
}
