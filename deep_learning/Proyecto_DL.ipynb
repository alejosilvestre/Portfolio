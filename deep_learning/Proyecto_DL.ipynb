{
  "cells": [
    {
      "cell_type": "markdown",
      "metadata": {},
      "source": [
        "<hr style=\"height:5px;border-width:0;color:orange;background-color:orange\">\n",
        "    <center> <span style=\"font-size: 38px;\"> Computer Vision Classification </span> </center>\n",
        "\n",
        "+ Author: **Alejandro Sánchez Silvestre**\n",
        "+ Date: **February 2024**\n",
        "+ Module: **Deep Learning**\n",
        "\n",
        "<hr style=\"height:5px;border-width:0;color:orange;background-color:orange\">"
      ]
    },
    {
      "cell_type": "markdown",
      "metadata": {},
      "source": [
        "\n",
        "# Intro\n",
        "\n",
        "**Datos:**\n",
        "\n",
        "El problema a resolver consiste en una clasificación multiclase de imágenes (10 clases). Las imágenes tienen una resolución de 32x32 pixeles a color. Es decir no son imágenes de mucha resolución ni muy nítidas.\n",
        "\n",
        "Obtenemos los datos desde el dataset CIFAR10 de Keras (https://keras.io/api/datasets/cifar10/). En el dataset tenemos unas 60.000 imagenes a RGB (50k train y 10k test) de 32x32 pixeles.\n",
        "\n",
        "Asumimos que los datos estan limpios.\n",
        "\n",
        "\n",
        "Las imagenes las tendremos que clasificar en 10 clases etiquetadas:\n",
        "- Airplane\n",
        "- Automobile\n",
        "- Bird\n",
        "- Cat\n",
        "- Deer\n",
        "- Dog\n",
        "- Frog\n",
        "- Horse\n",
        "- Ship\n",
        "- Truck\n",
        "\n",
        "**OBJETIVO**\n",
        "\n",
        "Genenerar un modelo de Deep Learning capaz de clasificar correctamente las imagenes segun la clase. \n",
        "Para la resolución de este problema usaremos una red neuronal con capas convolucionales (CNN) ya que trabajan mejor con imagenes que las capas densas. \n",
        "\n",
        "Las métricas que utilizaremos para este problema será la **accuracy** ya que nos interesa capturar el máximo de true positives ya que los false positives y false negatives no penalizan. (en este caso utilizaríamos otras como recall o precision)\n",
        "\n",
        "\n",
        "\n",
        "\n",
        "\n",
        "**ROAD MAP Y OUTLINE**: \n",
        "- **Intro**\n",
        "- **Pipeline summary**: \n",
        "    1. **Librerias**\n",
        "    2. **Preparacion de los datos**\n",
        "    3. **Arquitectura del modelo**\n",
        "    4. **Modelización y entrenamiento**\n",
        "    5. **Evaluacion de resultados**\n",
        "- **Conclusion**\n",
        "\n",
        "\n",
        "\n",
        "\n",
        "\n",
        "\n",
        "<hr style=\"height:5px;border-width:0;color:orange;background-color:orange\">"
      ]
    },
    {
      "cell_type": "markdown",
      "metadata": {},
      "source": [
        "CONCLUSIONES\n",
        "Conseguido una accuracy de 84,71% con un modelo con poco overfitting.\n",
        "\n",
        "Creo real y posible llegar a mejores resultados pero esto llevaría mucho mas tiempo y recursos de computación (quisiera guardar los créditos de GPU para otro proyecto de Deep Learning relacionado con el campo de las ciencias medicas).\n",
        "\n",
        "La forma de optimizar seria ir probando cambios en la arquitectura como probar intercalar batch norm y dropout entre cada de las capas convolucionales, aumento complejidad de la red incluyendo mas bloques de convolución, aumento de filtros y variación de tamaño del kernel indistintamente.\n",
        "\n",
        "De tener tiempo y recursos ilimitados pondría en practica estas ideas para llegar a mejores resultados, pero como la vida misma, hay que elegir sabiamente donde destinamos nuestro tiempo, dinero y atención.\n",
        "\n",
        "Muchas gracias por tus clases Guille, de verdad las he disfrutado mucho tanto en contenido como en dinámica. Eres un profesor de calidad, estamos en contacto.\n"
      ]
    },
    {
      "cell_type": "markdown",
      "metadata": {},
      "source": []
    },
    {
      "cell_type": "markdown",
      "metadata": {
        "id": "e5awq5ZU9oJn",
        "tags": []
      },
      "source": [
        "<a id='seccion1'></a>\n",
        "# **1. Librerias**\n",
        "<hr style=\"height:5px;border-width:0;color:orange;background-color:orange\">"
      ]
    },
    {
      "cell_type": "code",
      "execution_count": 12,
      "metadata": {
        "id": "6e89W2u_9oJo"
      },
      "outputs": [],
      "source": [
        "# Para empezar carguemos esas librerias que nos hacen falta\n",
        "from tensorflow import keras as ks\n",
        "from matplotlib import pyplot as plt\n",
        "import numpy as np\n",
        "import time\n",
        "import datetime\n",
        "\n",
        "\n",
        "from tensorflow.keras import regularizers\n",
        "import tensorflow as tf\n",
        "from tensorflow.keras import layers, models\n",
        "\n",
        "from tensorflow.keras.optimizers import Adam, SGD\n",
        "\n",
        "from tensorflow.keras import regularizers\n",
        "from tensorflow.keras.models import Sequential\n",
        "from tensorflow.keras.layers import Conv2D, MaxPooling2D, Flatten, Dense, Dropout, BatchNormalization\n",
        "\n",
        "from tensorflow.keras.preprocessing.image import ImageDataGenerator\n",
        "from tensorflow.keras.callbacks import EarlyStopping"
      ]
    },
    {
      "cell_type": "markdown",
      "metadata": {},
      "source": [
        "<a id='seccion2'></a>\n",
        "# **2. Preparacion de los datos**\n",
        "<hr style=\"height:5px;border-width:0;color:orange;background-color:orange\">"
      ]
    },
    {
      "cell_type": "markdown",
      "metadata": {},
      "source": [
        "Cargamos los datos de CIFAR10 de los datasets directamente de las librerias de Keras. Estos ya estan dispuestos en train and test\n",
        "\n",
        "La red neuronal requiere que los inputs sean números reales, y lo haremos forzando la division de los valores de dentro de las matrices. Estas son imagenes de 32x32 pixeles, siendo el valor de cada uno del 0 al 255 por cada color del RGB quedando asi un numero real del 0 al 1, esto ya si lo puede tragar la red neuronal."
      ]
    },
    {
      "cell_type": "code",
      "execution_count": null,
      "metadata": {},
      "outputs": [
        {
          "name": "stdout",
          "output_type": "stream",
          "text": [
            "Downloading data from https://www.cs.toronto.edu/~kriz/cifar-10-python.tar.gz\n",
            "170498071/170498071 [==============================] - 6s 0us/step\n"
          ]
        }
      ],
      "source": [
        "cifar10 = ks.datasets.cifar10\n",
        "\n",
        "(x_train, y_train), (x_test, y_test) = cifar10.load_data()\n",
        "\n",
        "x_train, x_test = x_train / 255.0, x_test / 255.0\n",
        "y_train, y_test = y_train.flatten(), y_test.flatten()"
      ]
    },
    {
      "cell_type": "code",
      "execution_count": null,
      "metadata": {},
      "outputs": [
        {
          "data": {
            "text/plain": [
              "array([6, 9, 9, ..., 9, 1, 1], dtype=uint8)"
            ]
          },
          "metadata": {},
          "output_type": "display_data"
        }
      ],
      "source": [
        "y_train_label = y_train\n",
        "\n",
        "#y_test = ks.utils.to_categorical(y_test)\n",
        "#y_train = ks.utils.to_categorical(y_train)\n",
        "\n",
        "y_test\n",
        "y_train"
      ]
    },
    {
      "cell_type": "markdown",
      "metadata": {},
      "source": [
        "Obtenemos un array con todas las labels de CIFAR10"
      ]
    },
    {
      "cell_type": "code",
      "execution_count": null,
      "metadata": {},
      "outputs": [
        {
          "name": "stdout",
          "output_type": "stream",
          "text": [
            "Number of labels: 10\n"
          ]
        }
      ],
      "source": [
        "cifar10_labels = [\n",
        "'airplane', # id 0\n",
        "'automobile',\n",
        "'bird',\n",
        "'cat',\n",
        "'deer',\n",
        "'dog',\n",
        "'frog',\n",
        "'horse',\n",
        "'ship',\n",
        "'truck',\n",
        "]\n",
        "\n",
        "print('Number of labels: %s' % len(cifar10_labels))"
      ]
    },
    {
      "cell_type": "markdown",
      "metadata": {},
      "source": [
        "Pintemos una muestra de las imagenes del dataset CIFAR10, a ver si se parece en algo a lo que esperamos.\n",
        "Primero, vemos que tipos de datos tengo, después mapeamos esas matrices en una escala de grises utilizando el método **.get_cmap()** de PlotLy con los nueve primeros números del dataset."
      ]
    },
    {
      "cell_type": "code",
      "execution_count": null,
      "metadata": {},
      "outputs": [
        {
          "name": "stdout",
          "output_type": "stream",
          "text": [
            "Train: X=(50000, 32, 32, 3), y=(50000,)\n",
            "Test: X=(10000, 32, 32, 3), y=(10000,)\n"
          ]
        },
        {
          "data": {
            "image/png": "[encoded data removed]",
            "text/plain": [
              "<Figure size 640x480 with 9 Axes>"
            ]
          },
          "metadata": {},
          "output_type": "display_data"
        }
      ],
      "source": [
        "# Pintemos una muestra de las las imagenes del dataset MNIST\n",
        "\n",
        "print('Train: X=%s, y=%s' % (x_train.shape, y_train.shape))\n",
        "print('Test: X=%s, y=%s' % (x_test.shape, y_test.shape))\n",
        "\n",
        "for i in range(9):\n",
        "\n",
        "    plt.subplot(330 + 1 + i)\n",
        "    plt.imshow(x_train[i], cmap=plt.get_cmap('gray'))\n",
        "    plt.title(cifar10_labels[y_train_label[i]])\n",
        "\n",
        "plt.subplots_adjust(hspace = 1)\n",
        "plt.show()"
      ]
    },
    {
      "cell_type": "markdown",
      "metadata": {},
      "source": [
        "Como vamos a querer ir haciendo validación a la vez que entrenamos (muy practico)"
      ]
    },
    {
      "cell_type": "code",
      "execution_count": 14,
      "metadata": {},
      "outputs": [
        {
          "ename": "SyntaxError",
          "evalue": "invalid syntax (1873428618.py, line 1)",
          "output_type": "error",
          "traceback": [
            "\u001b[1;36m  Cell \u001b[1;32mIn[14], line 1\u001b[1;36m\u001b[0m\n\u001b[1;33m    Como vamos a querer ir haciendo validación a la vez que entrenamos (muy practico)\u001b[0m\n\u001b[1;37m         ^\u001b[0m\n\u001b[1;31mSyntaxError\u001b[0m\u001b[1;31m:\u001b[0m invalid syntax\n"
          ]
        }
      ],
      "source": [
        "# Como vamos a querer ir haciendo validación a la vez que entrenamos, extraemos 10.000 imagenes  para la validacion\n",
        "x_val = x_train[-10000:]\n",
        "y_val = y_train[-10000:]\n",
        "\n",
        "x_train = x_train[:-10000]\n",
        "y_train = y_train[:-10000]\n"
      ]
    },
    {
      "cell_type": "markdown",
      "metadata": {},
      "source": [
        "Validamos que hemos extraido correctamente los sets de entrenamiento, validacion y test. Asi como su formato (deberiamos recibir imagenes de 32x32 a 3 canales (RGB)). Esto es imporante ya que las redes convolucionales esperan la entrada de 4 parametros.\n"
      ]
    },
    {
      "cell_type": "code",
      "execution_count": 15,
      "metadata": {},
      "outputs": [
        {
          "ename": "NameError",
          "evalue": "name 'x_train' is not defined",
          "output_type": "error",
          "traceback": [
            "\u001b[1;31m---------------------------------------------------------------------------\u001b[0m",
            "\u001b[1;31mNameError\u001b[0m                                 Traceback (most recent call last)",
            "Cell \u001b[1;32mIn[15], line 2\u001b[0m\n\u001b[0;32m      1\u001b[0m \u001b[38;5;66;03m# Validamos el resultado\u001b[39;00m\n\u001b[1;32m----> 2\u001b[0m \u001b[38;5;28mprint\u001b[39m(\u001b[38;5;124m'\u001b[39m\u001b[38;5;124mTrain: X=\u001b[39m\u001b[38;5;132;01m%s\u001b[39;00m\u001b[38;5;124m, y=\u001b[39m\u001b[38;5;132;01m%s\u001b[39;00m\u001b[38;5;124m'\u001b[39m \u001b[38;5;241m%\u001b[39m (x_train\u001b[38;5;241m.\u001b[39mshape, y_train\u001b[38;5;241m.\u001b[39mshape))\n\u001b[0;32m      3\u001b[0m \u001b[38;5;28mprint\u001b[39m(\u001b[38;5;124m'\u001b[39m\u001b[38;5;124mTest: X=\u001b[39m\u001b[38;5;132;01m%s\u001b[39;00m\u001b[38;5;124m, y=\u001b[39m\u001b[38;5;132;01m%s\u001b[39;00m\u001b[38;5;124m'\u001b[39m \u001b[38;5;241m%\u001b[39m (x_test\u001b[38;5;241m.\u001b[39mshape, y_test\u001b[38;5;241m.\u001b[39mshape))\n\u001b[0;32m      4\u001b[0m \u001b[38;5;28mprint\u001b[39m(\u001b[38;5;124m'\u001b[39m\u001b[38;5;124mValidation: X=\u001b[39m\u001b[38;5;132;01m%s\u001b[39;00m\u001b[38;5;124m, y=\u001b[39m\u001b[38;5;132;01m%s\u001b[39;00m\u001b[38;5;124m'\u001b[39m \u001b[38;5;241m%\u001b[39m (x_val\u001b[38;5;241m.\u001b[39mshape, y_val\u001b[38;5;241m.\u001b[39mshape))\n",
            "\u001b[1;31mNameError\u001b[0m: name 'x_train' is not defined"
          ]
        }
      ],
      "source": [
        "# Validamos el resultado\n",
        "print('Train: X=%s, y=%s' % (x_train.shape, y_train.shape))\n",
        "print('Test: X=%s, y=%s' % (x_test.shape, y_test.shape))\n",
        "print('Validation: X=%s, y=%s' % (x_val.shape, y_val.shape))\n",
        "\n",
        "# Correcto"
      ]
    },
    {
      "cell_type": "markdown",
      "metadata": {
        "id": "6_dptlpJ9oJp"
      },
      "source": [
        "\n",
        "<a id='seccion3'></a>\n",
        "# **3. Arquitectura neuronal del modelo**\n",
        "<hr style=\"height:5px;border-width:0;color:orange;background-color:orange\">"
      ]
    },
    {
      "cell_type": "markdown",
      "metadata": {},
      "source": [
        "<div style=\"text-align:center\"><img src=\"resumen_arquitectura.JPG\" /></div>\n"
      ]
    },
    {
      "cell_type": "markdown",
      "metadata": {},
      "source": [
        "### Parametros a ajustar:\n",
        "- Capas:\n",
        "    - Nº Neuronas\n",
        "    - Nº Capas\n",
        "- Tipo de capa \n",
        "    - Densa \n",
        "    - Convolucional, input y tramaño del kernel\n",
        "- Funcion activadora por capa:\n",
        "    - ReLu \n",
        "    - Linerar \n",
        "    - Softmax\n",
        "- Batchsize\n",
        "- Epochs\n",
        "- Optimizador: Adam, SGD, otros. Learnign rate y decay\n",
        "- Funcion error: problema clasificación: métrica Cross-Entropy Loss\n",
        "- Prevencion Overfitting: \n",
        "    - Dropout \n",
        "    - Normalización \n",
        "    - Regularización\n",
        "    - Data augmentation\n"
      ]
    },
    {
      "cell_type": "markdown",
      "metadata": {
        "id": "y1NOuGvOIGYT"
      },
      "source": [
        "Capa de salida con funcion de activacion softmax ya que tenemos una clasificacion multiclase, utilizando 10 neuoronas ya que tenemos 10 clases a clasificar."
      ]
    },
    {
      "cell_type": "code",
      "execution_count": 9,
      "metadata": {},
      "outputs": [],
      "source": [
        "model = ks.Sequential()\n",
        "\n",
        "model.add(ks.layers.Conv2D(filters=32, kernel_size=(3, 3),strides=(1, 1), activation='relu',\n",
        "                              padding=\"same\",input_shape=(32, 32, 3)))\n",
        "model.add(ks.layers.Conv2D(filters=142, kernel_size=(3, 3),strides=(1, 1), activation='relu',\n",
        "                              padding=\"same\",input_shape=(32, 32, 3)))\n",
        "model.add(ks.layers.BatchNormalization())\n",
        "model.add(ks.layers.MaxPooling2D(pool_size=(2, 2)))\n",
        "model.add(ks.layers.Dropout(0.25))\n",
        "\n",
        "\n",
        "model.add(ks.layers.Conv2D(filters=364, kernel_size=(3, 3),strides=(1, 1), activation='relu',\n",
        "                              padding=\"same\",))\n",
        "model.add(ks.layers.Conv2D(filters=594, kernel_size=(3, 3),strides=(1, 1), activation='relu',\n",
        "                              padding=\"same\",))\n",
        "model.add(ks.layers.BatchNormalization())\n",
        "model.add(ks.layers.MaxPooling2D(pool_size=(2, 2)))\n",
        "model.add(ks.layers.Dropout(0.25))\n",
        "\n",
        "model.add(ks.layers.Conv2D(filters=864, kernel_size=(4, 4),strides=(1, 1), activation='relu',\n",
        "                              padding=\"same\",))\n",
        "model.add(ks.layers.Conv2D(filters=1664, kernel_size=(4, 4),strides=(1, 1), activation='relu',\n",
        "                              padding=\"same\",))\n",
        "model.add(ks.layers.MaxPooling2D(pool_size=(2, 2)))\n",
        "model.add(ks.layers.Dropout(0.4))\n",
        "\n",
        "\n",
        "model.add(ks.layers.Flatten())\n",
        "model.add(ks.layers.Dense(628, activation='relu'))\n",
        "model.add(ks.layers.Dense(328, activation='relu',kernel_regularizer=regularizers.l2(0.01)))\n",
        "model.add(ks.layers.BatchNormalization())\n",
        "model.add(ks.layers.Dropout(0.5))\n",
        "model.add(ks.layers.Dense(38, activation='relu', kernel_regularizer=regularizers.l2(0.01)))\n",
        "\n",
        "model.add(ks.layers.Dense(10, activation='softmax'))"
      ]
    },
    {
      "cell_type": "markdown",
      "metadata": {
        "id": "rhpzEhLy9oJq"
      },
      "source": [
        "Para revisar un modelo, nos basta con llamar al método **.summary()** del modelo"
      ]
    },
    {
      "cell_type": "code",
      "execution_count": 11,
      "metadata": {
        "colab": {
          "base_uri": "https://localhost:8080/"
        },
        "id": "QPzKurY89oJq",
        "outputId": "733d9965-4e02-439f-a3f6-cdbb653b1692"
      },
      "outputs": [
        {
          "name": "stdout",
          "output_type": "stream",
          "text": [
            "Model: \"sequential_3\"\n",
            "_________________________________________________________________\n",
            " Layer (type)                Output Shape              Param #   \n",
            "=================================================================\n",
            " conv2d_18 (Conv2D)          (None, 32, 32, 32)        896       \n",
            "                                                                 \n",
            " conv2d_19 (Conv2D)          (None, 32, 32, 142)       41038     \n",
            "                                                                 \n",
            " batch_normalization_6 (Bat  (None, 32, 32, 142)       568       \n",
            " chNormalization)                                                \n",
            "                                                                 \n",
            " max_pooling2d_9 (MaxPoolin  (None, 16, 16, 142)       0         \n",
            " g2D)                                                            \n",
            "                                                                 \n",
            " dropout_9 (Dropout)         (None, 16, 16, 142)       0         \n",
            "                                                                 \n",
            " conv2d_20 (Conv2D)          (None, 16, 16, 364)       465556    \n",
            "                                                                 \n",
            " conv2d_21 (Conv2D)          (None, 16, 16, 594)       1946538   \n",
            "                                                                 \n",
            " batch_normalization_7 (Bat  (None, 16, 16, 594)       2376      \n",
            " chNormalization)                                                \n",
            "                                                                 \n",
            " max_pooling2d_10 (MaxPooli  (None, 8, 8, 594)         0         \n",
            " ng2D)                                                           \n",
            "                                                                 \n",
            " dropout_10 (Dropout)        (None, 8, 8, 594)         0         \n",
            "                                                                 \n",
            " conv2d_22 (Conv2D)          (None, 8, 8, 864)         8212320   \n",
            "                                                                 \n",
            " conv2d_23 (Conv2D)          (None, 8, 8, 1664)        23004800  \n",
            "                                                                 \n",
            " max_pooling2d_11 (MaxPooli  (None, 4, 4, 1664)        0         \n",
            " ng2D)                                                           \n",
            "                                                                 \n",
            " dropout_11 (Dropout)        (None, 4, 4, 1664)        0         \n",
            "                                                                 \n",
            " flatten_3 (Flatten)         (None, 26624)             0         \n",
            "                                                                 \n",
            " dense_6 (Dense)             (None, 628)               16720500  \n",
            "                                                                 \n",
            " dense_7 (Dense)             (None, 328)               206312    \n",
            "                                                                 \n",
            " batch_normalization_8 (Bat  (None, 328)               1312      \n",
            " chNormalization)                                                \n",
            "                                                                 \n",
            " dropout_12 (Dropout)        (None, 328)               0         \n",
            "                                                                 \n",
            " dense_8 (Dense)             (None, 38)                12502     \n",
            "                                                                 \n",
            " dense_9 (Dense)             (None, 10)                390       \n",
            "                                                                 \n",
            "=================================================================\n",
            "Total params: 50615108 (193.08 MB)\n",
            "Trainable params: 50612980 (193.07 MB)\n",
            "Non-trainable params: 2128 (8.31 KB)\n",
            "_________________________________________________________________\n"
          ]
        }
      ],
      "source": [
        "model.summary()"
      ]
    },
    {
      "cell_type": "markdown",
      "metadata": {
        "id": "Y6bEaf7l9oJq"
      },
      "source": [
        "\n",
        "<a id='seccion4'></a>\n",
        "# **4. Optimizador, función error**\n",
        "<hr style=\"height:5px;border-width:0;color:orange;background-color:orange\">\n"
      ]
    },
    {
      "cell_type": "markdown",
      "metadata": {},
      "source": [
        "En el caso de la función de perdida utilizaremos Cross-Entropy Loss ya que se trata de un problema de clasificación. Si fuera regresión u otro usaríamos MSE.\n",
        "Respecto al optimizador usaremos Adam ya que es un optimizador popular en modelos de clasificación de visión por computadora debido a su adaptabilidad y eficiencia. \n",
        "\n",
        "La ventaja respecto a RMS es que ajusta automáticamente la tasa de aprendizaje para cada parámetro, lo que permite una convergencia más rápida y una optimización eficiente. Tambien tiene capacidad de regularizacion lo cual ayuda a prevenirle sobreajuste. "
      ]
    },
    {
      "cell_type": "code",
      "execution_count": null,
      "metadata": {},
      "outputs": [],
      "source": [
        "\n",
        "# Ajustamos parametros\n",
        "new_adam = Adam(learning_rate=3e-4) # Adam por defecto es lr = 0.01\n",
        "\n",
        "\n",
        "model.compile(optimizer=new_adam,\n",
        "              loss='sparse_categorical_crossentropy', \n",
        "              metrics=['accuracy'])"
      ]
    },
    {
      "cell_type": "code",
      "execution_count": null,
      "metadata": {},
      "outputs": [],
      "source": [
        "t = time.perf_counter()"
      ]
    },
    {
      "cell_type": "code",
      "execution_count": null,
      "metadata": {},
      "outputs": [],
      "source": [
        "from tensorflow.keras.callbacks import EarlyStopping\n",
        "\n",
        "callback_val_loss = EarlyStopping(monitor=\"val_loss\", patience=25)\n",
        "callback_val_accuracy = EarlyStopping(monitor=\"val_accuracy\", patience=25)\n"
      ]
    },
    {
      "cell_type": "code",
      "execution_count": null,
      "metadata": {},
      "outputs": [
        {
          "name": "stdout",
          "output_type": "stream",
          "text": [
            "Epoch 1/300\n",
            "1250/1250 [==============================] - 92s 65ms/step - loss: 3.4892 - accuracy: 0.2305 - val_loss: 2.2918 - val_accuracy: 0.3334\n",
            "Epoch 2/300\n",
            "1250/1250 [==============================] - 79s 63ms/step - loss: 2.0605 - accuracy: 0.3530 - val_loss: 2.9781 - val_accuracy: 0.2876\n",
            "Epoch 3/300\n",
            "1250/1250 [==============================] - 84s 67ms/step - loss: 1.7612 - accuracy: 0.4042 - val_loss: 1.5756 - val_accuracy: 0.4613\n",
            "Epoch 4/300\n",
            "1250/1250 [==============================] - 79s 63ms/step - loss: 1.5426 - accuracy: 0.4704 - val_loss: 1.4239 - val_accuracy: 0.5036\n",
            "Epoch 5/300\n",
            "1250/1250 [==============================] - 84s 67ms/step - loss: 1.3807 - accuracy: 0.5271 - val_loss: 1.5041 - val_accuracy: 0.5261\n",
            "Epoch 6/300\n",
            "1250/1250 [==============================] - 79s 63ms/step - loss: 1.3712 - accuracy: 0.5256 - val_loss: 1.3407 - val_accuracy: 0.5448\n",
            "Epoch 7/300\n",
            "1250/1250 [==============================] - 79s 63ms/step - loss: 1.2273 - accuracy: 0.5796 - val_loss: 1.5650 - val_accuracy: 0.5224\n",
            "Epoch 8/300\n",
            "1250/1250 [==============================] - 84s 67ms/step - loss: 1.1928 - accuracy: 0.5934 - val_loss: 1.2301 - val_accuracy: 0.5999\n",
            "Epoch 9/300\n",
            "1250/1250 [==============================] - 84s 67ms/step - loss: 1.1152 - accuracy: 0.6259 - val_loss: 1.1928 - val_accuracy: 0.6104\n",
            "Epoch 10/300\n",
            "1250/1250 [==============================] - 84s 67ms/step - loss: 1.0504 - accuracy: 0.6464 - val_loss: 1.2071 - val_accuracy: 0.6011\n",
            "Epoch 11/300\n",
            "1250/1250 [==============================] - 84s 67ms/step - loss: 1.0211 - accuracy: 0.6616 - val_loss: 0.9966 - val_accuracy: 0.6739\n",
            "Epoch 12/300\n",
            "1250/1250 [==============================] - 79s 63ms/step - loss: 0.9591 - accuracy: 0.6857 - val_loss: 0.8695 - val_accuracy: 0.7193\n",
            "Epoch 13/300\n",
            "1250/1250 [==============================] - 84s 67ms/step - loss: 0.9177 - accuracy: 0.7005 - val_loss: 0.8682 - val_accuracy: 0.7204\n",
            "Epoch 14/300\n",
            "1250/1250 [==============================] - 79s 63ms/step - loss: 0.8758 - accuracy: 0.7169 - val_loss: 0.8648 - val_accuracy: 0.7166\n",
            "Epoch 15/300\n",
            "1250/1250 [==============================] - 79s 63ms/step - loss: 0.8408 - accuracy: 0.7295 - val_loss: 0.9283 - val_accuracy: 0.7037\n",
            "Epoch 16/300\n",
            "1250/1250 [==============================] - 79s 63ms/step - loss: 0.8063 - accuracy: 0.7416 - val_loss: 0.8224 - val_accuracy: 0.7417\n",
            "Epoch 17/300\n",
            "1250/1250 [==============================] - 79s 63ms/step - loss: 0.7898 - accuracy: 0.7447 - val_loss: 0.8708 - val_accuracy: 0.7279\n",
            "Epoch 18/300\n",
            "1250/1250 [==============================] - 84s 67ms/step - loss: 0.7539 - accuracy: 0.7601 - val_loss: 0.7117 - val_accuracy: 0.7733\n",
            "Epoch 19/300\n",
            "1250/1250 [==============================] - 84s 67ms/step - loss: 0.7359 - accuracy: 0.7656 - val_loss: 0.7293 - val_accuracy: 0.7685\n",
            "Epoch 20/300\n",
            "1250/1250 [==============================] - 79s 63ms/step - loss: 0.7105 - accuracy: 0.7756 - val_loss: 0.9061 - val_accuracy: 0.7266\n",
            "Epoch 21/300\n",
            "1250/1250 [==============================] - 84s 67ms/step - loss: 0.6905 - accuracy: 0.7814 - val_loss: 0.7740 - val_accuracy: 0.7635\n",
            "Epoch 22/300\n",
            "1250/1250 [==============================] - 84s 67ms/step - loss: 0.6679 - accuracy: 0.7868 - val_loss: 0.7128 - val_accuracy: 0.7797\n",
            "Epoch 23/300\n",
            "1250/1250 [==============================] - 79s 64ms/step - loss: 0.6500 - accuracy: 0.7932 - val_loss: 0.6814 - val_accuracy: 0.7881\n",
            "Epoch 24/300\n",
            "1250/1250 [==============================] - 79s 63ms/step - loss: 0.6331 - accuracy: 0.7999 - val_loss: 0.6353 - val_accuracy: 0.8035\n",
            "Epoch 25/300\n",
            "1250/1250 [==============================] - 84s 67ms/step - loss: 0.6173 - accuracy: 0.8055 - val_loss: 0.7174 - val_accuracy: 0.7876\n",
            "Epoch 26/300\n",
            "1250/1250 [==============================] - 84s 67ms/step - loss: 0.6044 - accuracy: 0.8095 - val_loss: 0.7334 - val_accuracy: 0.7753\n",
            "Epoch 27/300\n",
            "1250/1250 [==============================] - 84s 67ms/step - loss: 0.5855 - accuracy: 0.8162 - val_loss: 0.6636 - val_accuracy: 0.7956\n",
            "Epoch 28/300\n",
            "1250/1250 [==============================] - 84s 67ms/step - loss: 0.5778 - accuracy: 0.8166 - val_loss: 0.5663 - val_accuracy: 0.8226\n",
            "Epoch 29/300\n",
            "1250/1250 [==============================] - 79s 64ms/step - loss: 0.5567 - accuracy: 0.8254 - val_loss: 0.7221 - val_accuracy: 0.7771\n",
            "Epoch 30/300\n",
            "1250/1250 [==============================] - 84s 67ms/step - loss: 0.5483 - accuracy: 0.8265 - val_loss: 0.6480 - val_accuracy: 0.8024\n",
            "Epoch 31/300\n",
            "1250/1250 [==============================] - 84s 67ms/step - loss: 0.5457 - accuracy: 0.8301 - val_loss: 0.6098 - val_accuracy: 0.8098\n",
            "Epoch 32/300\n",
            "1250/1250 [==============================] - 79s 63ms/step - loss: 0.5298 - accuracy: 0.8354 - val_loss: 0.6280 - val_accuracy: 0.8112\n",
            "Epoch 33/300\n",
            "1250/1250 [==============================] - 84s 67ms/step - loss: 0.5171 - accuracy: 0.8392 - val_loss: 0.5388 - val_accuracy: 0.8350\n",
            "Epoch 34/300\n",
            "1250/1250 [==============================] - 79s 63ms/step - loss: 0.5456 - accuracy: 0.8291 - val_loss: 0.6034 - val_accuracy: 0.8155\n",
            "Epoch 35/300\n",
            "1250/1250 [==============================] - 84s 67ms/step - loss: 0.5145 - accuracy: 0.8379 - val_loss: 0.6423 - val_accuracy: 0.8080\n",
            "Epoch 36/300\n",
            "1250/1250 [==============================] - 79s 63ms/step - loss: 0.4830 - accuracy: 0.8514 - val_loss: 0.5359 - val_accuracy: 0.8363\n",
            "Epoch 37/300\n",
            "1250/1250 [==============================] - 84s 67ms/step - loss: 0.4800 - accuracy: 0.8533 - val_loss: 0.5688 - val_accuracy: 0.8259\n",
            "Epoch 38/300\n",
            "1250/1250 [==============================] - 84s 67ms/step - loss: 0.4716 - accuracy: 0.8564 - val_loss: 0.5570 - val_accuracy: 0.8326\n",
            "Epoch 39/300\n",
            "1250/1250 [==============================] - 79s 63ms/step - loss: 0.4710 - accuracy: 0.8555 - val_loss: 0.6890 - val_accuracy: 0.7926\n",
            "Epoch 40/300\n",
            "1250/1250 [==============================] - 84s 67ms/step - loss: 0.4589 - accuracy: 0.8597 - val_loss: 0.6290 - val_accuracy: 0.8131\n",
            "Epoch 41/300\n",
            "1250/1250 [==============================] - 80s 64ms/step - loss: 0.4459 - accuracy: 0.8638 - val_loss: 0.5691 - val_accuracy: 0.8300\n",
            "Epoch 42/300\n",
            "1250/1250 [==============================] - 80s 64ms/step - loss: 0.4400 - accuracy: 0.8660 - val_loss: 0.5519 - val_accuracy: 0.8322\n",
            "Epoch 43/300\n",
            "1250/1250 [==============================] - 80s 64ms/step - loss: 0.4362 - accuracy: 0.8646 - val_loss: 0.6539 - val_accuracy: 0.8104\n",
            "Epoch 44/300\n",
            "1250/1250 [==============================] - 85s 68ms/step - loss: 0.4319 - accuracy: 0.8677 - val_loss: 0.5525 - val_accuracy: 0.8318\n",
            "Epoch 45/300\n",
            "1250/1250 [==============================] - 80s 64ms/step - loss: 0.4228 - accuracy: 0.8738 - val_loss: 0.5313 - val_accuracy: 0.8386\n",
            "Epoch 46/300\n",
            "1250/1250 [==============================] - 85s 68ms/step - loss: 0.4135 - accuracy: 0.8737 - val_loss: 0.5255 - val_accuracy: 0.8420\n",
            "Epoch 47/300\n",
            "1250/1250 [==============================] - 84s 68ms/step - loss: 0.4011 - accuracy: 0.8762 - val_loss: 0.5958 - val_accuracy: 0.8262\n",
            "Epoch 48/300\n",
            "1250/1250 [==============================] - 80s 64ms/step - loss: 0.4021 - accuracy: 0.8774 - val_loss: 0.6579 - val_accuracy: 0.8119\n",
            "Epoch 49/300\n",
            "1250/1250 [==============================] - 80s 64ms/step - loss: 0.4057 - accuracy: 0.8755 - val_loss: 0.5771 - val_accuracy: 0.8323\n",
            "Epoch 50/300\n",
            "1250/1250 [==============================] - 85s 68ms/step - loss: 0.3889 - accuracy: 0.8814 - val_loss: 0.5517 - val_accuracy: 0.8429\n",
            "Epoch 51/300\n",
            "1250/1250 [==============================] - 85s 68ms/step - loss: 0.3861 - accuracy: 0.8824 - val_loss: 0.5816 - val_accuracy: 0.8318\n",
            "Epoch 52/300\n",
            "1250/1250 [==============================] - 84s 68ms/step - loss: 0.3814 - accuracy: 0.8840 - val_loss: 0.5652 - val_accuracy: 0.8368\n",
            "Epoch 53/300\n",
            "1250/1250 [==============================] - 84s 68ms/step - loss: 0.3765 - accuracy: 0.8864 - val_loss: 0.5705 - val_accuracy: 0.8375\n",
            "Epoch 54/300\n",
            "1250/1250 [==============================] - 80s 64ms/step - loss: 0.3649 - accuracy: 0.8899 - val_loss: 0.5075 - val_accuracy: 0.8523\n",
            "Epoch 55/300\n",
            "1250/1250 [==============================] - 80s 64ms/step - loss: 0.3679 - accuracy: 0.8887 - val_loss: 0.5443 - val_accuracy: 0.8426\n",
            "Epoch 56/300\n",
            "1250/1250 [==============================] - 85s 68ms/step - loss: 0.3591 - accuracy: 0.8942 - val_loss: 0.5837 - val_accuracy: 0.8323\n",
            "Epoch 57/300\n",
            "1250/1250 [==============================] - 80s 64ms/step - loss: 0.3516 - accuracy: 0.8944 - val_loss: 0.4927 - val_accuracy: 0.8540\n",
            "Epoch 58/300\n",
            "1250/1250 [==============================] - 85s 68ms/step - loss: 0.3535 - accuracy: 0.8942 - val_loss: 0.5179 - val_accuracy: 0.8481\n",
            "Epoch 59/300\n",
            "1250/1250 [==============================] - 85s 68ms/step - loss: 0.3447 - accuracy: 0.8955 - val_loss: 0.5180 - val_accuracy: 0.8552\n",
            "Epoch 60/300\n",
            "1250/1250 [==============================] - 85s 68ms/step - loss: 0.3410 - accuracy: 0.8971 - val_loss: 0.5087 - val_accuracy: 0.8546\n",
            "Epoch 61/300\n",
            "1250/1250 [==============================] - 85s 68ms/step - loss: 0.3411 - accuracy: 0.8984 - val_loss: 0.5449 - val_accuracy: 0.8421\n",
            "Epoch 62/300\n",
            "1250/1250 [==============================] - 85s 68ms/step - loss: 0.3332 - accuracy: 0.8990 - val_loss: 0.5357 - val_accuracy: 0.8512\n",
            "Epoch 63/300\n",
            "1250/1250 [==============================] - 80s 64ms/step - loss: 0.3268 - accuracy: 0.9027 - val_loss: 0.5837 - val_accuracy: 0.8391\n",
            "Epoch 64/300\n",
            "1250/1250 [==============================] - 85s 68ms/step - loss: 0.3648 - accuracy: 0.8903 - val_loss: 0.6022 - val_accuracy: 0.8296\n",
            "Epoch 65/300\n",
            "1250/1250 [==============================] - 80s 64ms/step - loss: 0.3257 - accuracy: 0.9025 - val_loss: 0.4743 - val_accuracy: 0.8606\n",
            "Epoch 66/300\n",
            "1250/1250 [==============================] - 85s 68ms/step - loss: 0.3178 - accuracy: 0.9031 - val_loss: 0.6098 - val_accuracy: 0.8261\n",
            "Epoch 67/300\n",
            "1250/1250 [==============================] - 80s 64ms/step - loss: 0.3088 - accuracy: 0.9073 - val_loss: 0.5227 - val_accuracy: 0.8527\n",
            "Epoch 68/300\n",
            "1250/1250 [==============================] - 85s 68ms/step - loss: 0.3145 - accuracy: 0.9068 - val_loss: 0.4836 - val_accuracy: 0.8648\n",
            "Epoch 69/300\n",
            "1250/1250 [==============================] - 85s 68ms/step - loss: 0.3120 - accuracy: 0.9081 - val_loss: 0.5349 - val_accuracy: 0.8450\n",
            "Epoch 70/300\n",
            "1250/1250 [==============================] - 80s 64ms/step - loss: 0.3030 - accuracy: 0.9096 - val_loss: 0.5223 - val_accuracy: 0.8555\n",
            "Epoch 71/300\n",
            "1250/1250 [==============================] - 85s 68ms/step - loss: 0.3025 - accuracy: 0.9106 - val_loss: 0.5001 - val_accuracy: 0.8561\n",
            "Epoch 72/300\n",
            "1250/1250 [==============================] - 85s 68ms/step - loss: 0.2989 - accuracy: 0.9111 - val_loss: 0.5773 - val_accuracy: 0.8428\n",
            "Epoch 73/300\n",
            "1250/1250 [==============================] - 85s 68ms/step - loss: 0.2937 - accuracy: 0.9134 - val_loss: 0.4871 - val_accuracy: 0.8626\n",
            "Epoch 74/300\n",
            "1250/1250 [==============================] - 85s 68ms/step - loss: 0.2888 - accuracy: 0.9133 - val_loss: 0.4908 - val_accuracy: 0.8648\n",
            "Epoch 75/300\n",
            "1250/1250 [==============================] - 85s 68ms/step - loss: 0.2836 - accuracy: 0.9172 - val_loss: 0.5483 - val_accuracy: 0.8541\n",
            "Epoch 76/300\n",
            "1250/1250 [==============================] - 85s 68ms/step - loss: 0.2889 - accuracy: 0.9151 - val_loss: 0.5568 - val_accuracy: 0.8498\n",
            "Epoch 77/300\n",
            "1250/1250 [==============================] - 85s 68ms/step - loss: 0.2836 - accuracy: 0.9169 - val_loss: 0.4903 - val_accuracy: 0.8633\n",
            "Epoch 78/300\n",
            "1250/1250 [==============================] - 80s 64ms/step - loss: 0.2819 - accuracy: 0.9159 - val_loss: 0.5252 - val_accuracy: 0.8562\n",
            "Epoch 79/300\n",
            "1250/1250 [==============================] - 80s 64ms/step - loss: 0.2781 - accuracy: 0.9192 - val_loss: 0.4918 - val_accuracy: 0.8656\n",
            "Epoch 80/300\n",
            "1250/1250 [==============================] - 85s 68ms/step - loss: 0.2740 - accuracy: 0.9196 - val_loss: 0.5529 - val_accuracy: 0.8484\n",
            "Epoch 81/300\n",
            "1250/1250 [==============================] - 80s 64ms/step - loss: 0.2719 - accuracy: 0.9199 - val_loss: 0.4936 - val_accuracy: 0.8676\n",
            "Epoch 82/300\n",
            "1250/1250 [==============================] - 85s 68ms/step - loss: 0.2661 - accuracy: 0.9221 - val_loss: 0.5093 - val_accuracy: 0.8576\n",
            "Epoch 83/300\n",
            "1250/1250 [==============================] - 85s 68ms/step - loss: 0.2661 - accuracy: 0.9222 - val_loss: 0.5279 - val_accuracy: 0.8565\n",
            "Epoch 84/300\n",
            "1250/1250 [==============================] - 85s 68ms/step - loss: 0.2646 - accuracy: 0.9226 - val_loss: 0.5421 - val_accuracy: 0.8518\n",
            "Epoch 85/300\n",
            "1250/1250 [==============================] - 85s 68ms/step - loss: 0.2604 - accuracy: 0.9235 - val_loss: 0.5354 - val_accuracy: 0.8532\n",
            "Epoch 86/300\n",
            "1250/1250 [==============================] - 85s 68ms/step - loss: 0.2559 - accuracy: 0.9247 - val_loss: 0.5506 - val_accuracy: 0.8532\n",
            "Epoch 87/300\n",
            "1250/1250 [==============================] - 80s 64ms/step - loss: 0.2587 - accuracy: 0.9239 - val_loss: 0.5203 - val_accuracy: 0.8557\n",
            "Epoch 88/300\n",
            "1250/1250 [==============================] - 85s 68ms/step - loss: 0.2512 - accuracy: 0.9267 - val_loss: 0.5576 - val_accuracy: 0.8530\n",
            "Epoch 89/300\n",
            "1250/1250 [==============================] - 85s 68ms/step - loss: 0.2548 - accuracy: 0.9262 - val_loss: 0.5340 - val_accuracy: 0.8582\n",
            "Epoch 90/300\n",
            "1250/1250 [==============================] - 80s 64ms/step - loss: 0.2519 - accuracy: 0.9269 - val_loss: 0.5533 - val_accuracy: 0.8536\n"
          ]
        }
      ],
      "source": [
        "\n",
        "from tensorflow.keras.preprocessing.image import ImageDataGenerator\n",
        "\n",
        "# Configuración de aumento de datos\n",
        "datagen = ImageDataGenerator(\n",
        "    rotation_range=40,\n",
        "    width_shift_range=0.2,\n",
        "    height_shift_range=0.2,\n",
        "    horizontal_flip=True,\n",
        "    vertical_flip=True,\n",
        "    zoom_range=0.01,\n",
        "    # brightness_range=(0.2,0.8)\n",
        "\n",
        ")\n",
        "\n",
        "# Entrenamiento del modelo con el generador de datos aumentados\n",
        "history = model.fit(datagen.flow(x_train, y_train, batch_size=32),            #cambiado batchsize de 42 a 32\n",
        "                    epochs=300,\n",
        "                    validation_data=(x_val, y_val),\n",
        "                    callbacks=[callback_val_loss, callback_val_accuracy])\n",
        "\n"
      ]
    },
    {
      "cell_type": "markdown",
      "metadata": {},
      "source": [
        "<a id='seccion5'></a>\n",
        "# **5. Entrenamiento**\n",
        "<hr style=\"height:5px;border-width:0;color:orange;background-color:orange\">\n"
      ]
    },
    {
      "cell_type": "markdown",
      "metadata": {
        "id": "x4CSQVcD9oJu"
      },
      "source": [
        "\n",
        "Ya podemos ponernos a entrenar el modelo!! Ojo, que hemos de entrenar contra los datos convertidos al formato que espera la Convolution.\n",
        "\n",
        "Empezaremos con 30 epocs, es decir, 30 pasadas completas del dataset (que a su vez sera con mini-batches internamente), fijando un batch de 64\n",
        "\n",
        "El metodo .fit() nos permite, definir además si disponemos de varias CPUs, GPUs, y si queremos ir validando datos a cada fin de epoch."
      ]
    },
    {
      "cell_type": "markdown",
      "metadata": {
        "id": "vZpbG0QgIUto"
      },
      "source": [
        "**PARAMETROS A MODIFICAR**"
      ]
    },
    {
      "cell_type": "code",
      "execution_count": null,
      "metadata": {
        "id": "QVg85DLqcmxM"
      },
      "outputs": [],
      "source": []
    },
    {
      "cell_type": "code",
      "execution_count": null,
      "metadata": {
        "id": "BHI0dxhvQFxx"
      },
      "outputs": [],
      "source": [
        "# antes a 2e-4 y no habia apenas overfitting\n",
        "\n",
        "from tensorflow.keras.optimizers import Adam, SGD\n",
        "new_adam = Adam(learning_rate=3e-4) # Adam por defecto es lr = 0.01\n",
        "new_sgd = SGD(learning_rate=2e-5, momentum=0.9)\n",
        "\n",
        "model.compile(loss='sparse_categorical_crossentropy', optimizer=new_adam, metrics=['accuracy'])"
      ]
    },
    {
      "cell_type": "code",
      "execution_count": null,
      "metadata": {
        "id": "TQrdG4MJITg9"
      },
      "outputs": [],
      "source": [
        "model.compile(optimizer='Adam',\n",
        "              loss='sparse_categorical_crossentropy',\n",
        "              metrics=['accuracy'])"
      ]
    },
    {
      "cell_type": "code",
      "execution_count": null,
      "metadata": {
        "id": "DZEqE6L4INgL"
      },
      "outputs": [],
      "source": []
    },
    {
      "cell_type": "code",
      "execution_count": null,
      "metadata": {
        "id": "WVDxMUFK9oJu"
      },
      "outputs": [],
      "source": [
        "# montamos cronometro para calcular el tiempo de entrenamiento (importante para los recursos)\n",
        "t = time.perf_counter()"
      ]
    },
    {
      "cell_type": "code",
      "execution_count": null,
      "metadata": {
        "id": "ADygByDLuvqs"
      },
      "outputs": [],
      "source": [
        "\n",
        "# Configuramos callbacks para para el entrenamiento si no mejora despues de 25 epochs\n",
        "callback_val_loss = EarlyStopping(monitor=\"val_loss\", patience=25)\n",
        "callback_val_accuracy = EarlyStopping(monitor=\"val_accuracy\", patience=25)\n"
      ]
    },
    {
      "cell_type": "code",
      "execution_count": null,
      "metadata": {
        "colab": {
          "base_uri": "https://localhost:8080/"
        },
        "id": "NyOtokr07MRZ",
        "outputId": "b4932935-be1e-42a5-a5a1-112958ef8fd3"
      },
      "outputs": [
        {
          "name": "stdout",
          "output_type": "stream",
          "text": [
            "Epoch 1/300\n",
            "1250/1250 [==============================] - 92s 65ms/step - loss: 3.4892 - accuracy: 0.2305 - val_loss: 2.2918 - val_accuracy: 0.3334\n",
            "Epoch 2/300\n",
            "1250/1250 [==============================] - 79s 63ms/step - loss: 2.0605 - accuracy: 0.3530 - val_loss: 2.9781 - val_accuracy: 0.2876\n",
            "Epoch 3/300\n",
            "1250/1250 [==============================] - 84s 67ms/step - loss: 1.7612 - accuracy: 0.4042 - val_loss: 1.5756 - val_accuracy: 0.4613\n",
            "Epoch 4/300\n",
            "1250/1250 [==============================] - 79s 63ms/step - loss: 1.5426 - accuracy: 0.4704 - val_loss: 1.4239 - val_accuracy: 0.5036\n",
            "Epoch 5/300\n",
            "1250/1250 [==============================] - 84s 67ms/step - loss: 1.3807 - accuracy: 0.5271 - val_loss: 1.5041 - val_accuracy: 0.5261\n",
            "Epoch 6/300\n",
            "1250/1250 [==============================] - 79s 63ms/step - loss: 1.3712 - accuracy: 0.5256 - val_loss: 1.3407 - val_accuracy: 0.5448\n",
            "Epoch 7/300\n",
            "1250/1250 [==============================] - 79s 63ms/step - loss: 1.2273 - accuracy: 0.5796 - val_loss: 1.5650 - val_accuracy: 0.5224\n",
            "Epoch 8/300\n",
            "1250/1250 [==============================] - 84s 67ms/step - loss: 1.1928 - accuracy: 0.5934 - val_loss: 1.2301 - val_accuracy: 0.5999\n",
            "Epoch 9/300\n",
            "1250/1250 [==============================] - 84s 67ms/step - loss: 1.1152 - accuracy: 0.6259 - val_loss: 1.1928 - val_accuracy: 0.6104\n",
            "Epoch 10/300\n",
            "1250/1250 [==============================] - 84s 67ms/step - loss: 1.0504 - accuracy: 0.6464 - val_loss: 1.2071 - val_accuracy: 0.6011\n",
            "Epoch 11/300\n",
            "1250/1250 [==============================] - 84s 67ms/step - loss: 1.0211 - accuracy: 0.6616 - val_loss: 0.9966 - val_accuracy: 0.6739\n",
            "Epoch 12/300\n",
            "1250/1250 [==============================] - 79s 63ms/step - loss: 0.9591 - accuracy: 0.6857 - val_loss: 0.8695 - val_accuracy: 0.7193\n",
            "Epoch 13/300\n",
            "1250/1250 [==============================] - 84s 67ms/step - loss: 0.9177 - accuracy: 0.7005 - val_loss: 0.8682 - val_accuracy: 0.7204\n",
            "Epoch 14/300\n",
            "1250/1250 [==============================] - 79s 63ms/step - loss: 0.8758 - accuracy: 0.7169 - val_loss: 0.8648 - val_accuracy: 0.7166\n",
            "Epoch 15/300\n",
            "1250/1250 [==============================] - 79s 63ms/step - loss: 0.8408 - accuracy: 0.7295 - val_loss: 0.9283 - val_accuracy: 0.7037\n",
            "Epoch 16/300\n",
            "1250/1250 [==============================] - 79s 63ms/step - loss: 0.8063 - accuracy: 0.7416 - val_loss: 0.8224 - val_accuracy: 0.7417\n",
            "Epoch 17/300\n",
            "1250/1250 [==============================] - 79s 63ms/step - loss: 0.7898 - accuracy: 0.7447 - val_loss: 0.8708 - val_accuracy: 0.7279\n",
            "Epoch 18/300\n",
            "1250/1250 [==============================] - 84s 67ms/step - loss: 0.7539 - accuracy: 0.7601 - val_loss: 0.7117 - val_accuracy: 0.7733\n",
            "Epoch 19/300\n",
            "1250/1250 [==============================] - 84s 67ms/step - loss: 0.7359 - accuracy: 0.7656 - val_loss: 0.7293 - val_accuracy: 0.7685\n",
            "Epoch 20/300\n",
            "1250/1250 [==============================] - 79s 63ms/step - loss: 0.7105 - accuracy: 0.7756 - val_loss: 0.9061 - val_accuracy: 0.7266\n",
            "Epoch 21/300\n",
            "1250/1250 [==============================] - 84s 67ms/step - loss: 0.6905 - accuracy: 0.7814 - val_loss: 0.7740 - val_accuracy: 0.7635\n",
            "Epoch 22/300\n",
            "1250/1250 [==============================] - 84s 67ms/step - loss: 0.6679 - accuracy: 0.7868 - val_loss: 0.7128 - val_accuracy: 0.7797\n",
            "Epoch 23/300\n",
            "1250/1250 [==============================] - 79s 64ms/step - loss: 0.6500 - accuracy: 0.7932 - val_loss: 0.6814 - val_accuracy: 0.7881\n",
            "Epoch 24/300\n",
            "1250/1250 [==============================] - 79s 63ms/step - loss: 0.6331 - accuracy: 0.7999 - val_loss: 0.6353 - val_accuracy: 0.8035\n",
            "Epoch 25/300\n",
            "1250/1250 [==============================] - 84s 67ms/step - loss: 0.6173 - accuracy: 0.8055 - val_loss: 0.7174 - val_accuracy: 0.7876\n",
            "Epoch 26/300\n",
            "1250/1250 [==============================] - 84s 67ms/step - loss: 0.6044 - accuracy: 0.8095 - val_loss: 0.7334 - val_accuracy: 0.7753\n",
            "Epoch 27/300\n",
            "1250/1250 [==============================] - 84s 67ms/step - loss: 0.5855 - accuracy: 0.8162 - val_loss: 0.6636 - val_accuracy: 0.7956\n",
            "Epoch 28/300\n",
            "1250/1250 [==============================] - 84s 67ms/step - loss: 0.5778 - accuracy: 0.8166 - val_loss: 0.5663 - val_accuracy: 0.8226\n",
            "Epoch 29/300\n",
            "1250/1250 [==============================] - 79s 64ms/step - loss: 0.5567 - accuracy: 0.8254 - val_loss: 0.7221 - val_accuracy: 0.7771\n",
            "Epoch 30/300\n",
            "1250/1250 [==============================] - 84s 67ms/step - loss: 0.5483 - accuracy: 0.8265 - val_loss: 0.6480 - val_accuracy: 0.8024\n",
            "Epoch 31/300\n",
            "1250/1250 [==============================] - 84s 67ms/step - loss: 0.5457 - accuracy: 0.8301 - val_loss: 0.6098 - val_accuracy: 0.8098\n",
            "Epoch 32/300\n",
            "1250/1250 [==============================] - 79s 63ms/step - loss: 0.5298 - accuracy: 0.8354 - val_loss: 0.6280 - val_accuracy: 0.8112\n",
            "Epoch 33/300\n",
            "1250/1250 [==============================] - 84s 67ms/step - loss: 0.5171 - accuracy: 0.8392 - val_loss: 0.5388 - val_accuracy: 0.8350\n",
            "Epoch 34/300\n",
            "1250/1250 [==============================] - 79s 63ms/step - loss: 0.5456 - accuracy: 0.8291 - val_loss: 0.6034 - val_accuracy: 0.8155\n",
            "Epoch 35/300\n",
            "1250/1250 [==============================] - 84s 67ms/step - loss: 0.5145 - accuracy: 0.8379 - val_loss: 0.6423 - val_accuracy: 0.8080\n",
            "Epoch 36/300\n",
            "1250/1250 [==============================] - 79s 63ms/step - loss: 0.4830 - accuracy: 0.8514 - val_loss: 0.5359 - val_accuracy: 0.8363\n",
            "Epoch 37/300\n",
            "1250/1250 [==============================] - 84s 67ms/step - loss: 0.4800 - accuracy: 0.8533 - val_loss: 0.5688 - val_accuracy: 0.8259\n",
            "Epoch 38/300\n",
            "1250/1250 [==============================] - 84s 67ms/step - loss: 0.4716 - accuracy: 0.8564 - val_loss: 0.5570 - val_accuracy: 0.8326\n",
            "Epoch 39/300\n",
            "1250/1250 [==============================] - 79s 63ms/step - loss: 0.4710 - accuracy: 0.8555 - val_loss: 0.6890 - val_accuracy: 0.7926\n",
            "Epoch 40/300\n",
            "1250/1250 [==============================] - 84s 67ms/step - loss: 0.4589 - accuracy: 0.8597 - val_loss: 0.6290 - val_accuracy: 0.8131\n",
            "Epoch 41/300\n",
            "1250/1250 [==============================] - 80s 64ms/step - loss: 0.4459 - accuracy: 0.8638 - val_loss: 0.5691 - val_accuracy: 0.8300\n",
            "Epoch 42/300\n",
            "1250/1250 [==============================] - 80s 64ms/step - loss: 0.4400 - accuracy: 0.8660 - val_loss: 0.5519 - val_accuracy: 0.8322\n",
            "Epoch 43/300\n",
            "1250/1250 [==============================] - 80s 64ms/step - loss: 0.4362 - accuracy: 0.8646 - val_loss: 0.6539 - val_accuracy: 0.8104\n",
            "Epoch 44/300\n",
            "1250/1250 [==============================] - 85s 68ms/step - loss: 0.4319 - accuracy: 0.8677 - val_loss: 0.5525 - val_accuracy: 0.8318\n",
            "Epoch 45/300\n",
            "1250/1250 [==============================] - 80s 64ms/step - loss: 0.4228 - accuracy: 0.8738 - val_loss: 0.5313 - val_accuracy: 0.8386\n",
            "Epoch 46/300\n",
            "1250/1250 [==============================] - 85s 68ms/step - loss: 0.4135 - accuracy: 0.8737 - val_loss: 0.5255 - val_accuracy: 0.8420\n",
            "Epoch 47/300\n",
            "1250/1250 [==============================] - 84s 68ms/step - loss: 0.4011 - accuracy: 0.8762 - val_loss: 0.5958 - val_accuracy: 0.8262\n",
            "Epoch 48/300\n",
            "1250/1250 [==============================] - 80s 64ms/step - loss: 0.4021 - accuracy: 0.8774 - val_loss: 0.6579 - val_accuracy: 0.8119\n",
            "Epoch 49/300\n",
            "1250/1250 [==============================] - 80s 64ms/step - loss: 0.4057 - accuracy: 0.8755 - val_loss: 0.5771 - val_accuracy: 0.8323\n",
            "Epoch 50/300\n",
            "1250/1250 [==============================] - 85s 68ms/step - loss: 0.3889 - accuracy: 0.8814 - val_loss: 0.5517 - val_accuracy: 0.8429\n",
            "Epoch 51/300\n",
            "1250/1250 [==============================] - 85s 68ms/step - loss: 0.3861 - accuracy: 0.8824 - val_loss: 0.5816 - val_accuracy: 0.8318\n",
            "Epoch 52/300\n",
            "1250/1250 [==============================] - 84s 68ms/step - loss: 0.3814 - accuracy: 0.8840 - val_loss: 0.5652 - val_accuracy: 0.8368\n",
            "Epoch 53/300\n",
            "1250/1250 [==============================] - 84s 68ms/step - loss: 0.3765 - accuracy: 0.8864 - val_loss: 0.5705 - val_accuracy: 0.8375\n",
            "Epoch 54/300\n",
            "1250/1250 [==============================] - 80s 64ms/step - loss: 0.3649 - accuracy: 0.8899 - val_loss: 0.5075 - val_accuracy: 0.8523\n",
            "Epoch 55/300\n",
            "1250/1250 [==============================] - 80s 64ms/step - loss: 0.3679 - accuracy: 0.8887 - val_loss: 0.5443 - val_accuracy: 0.8426\n",
            "Epoch 56/300\n",
            "1250/1250 [==============================] - 85s 68ms/step - loss: 0.3591 - accuracy: 0.8942 - val_loss: 0.5837 - val_accuracy: 0.8323\n",
            "Epoch 57/300\n",
            "1250/1250 [==============================] - 80s 64ms/step - loss: 0.3516 - accuracy: 0.8944 - val_loss: 0.4927 - val_accuracy: 0.8540\n",
            "Epoch 58/300\n",
            "1250/1250 [==============================] - 85s 68ms/step - loss: 0.3535 - accuracy: 0.8942 - val_loss: 0.5179 - val_accuracy: 0.8481\n",
            "Epoch 59/300\n",
            "1250/1250 [==============================] - 85s 68ms/step - loss: 0.3447 - accuracy: 0.8955 - val_loss: 0.5180 - val_accuracy: 0.8552\n",
            "Epoch 60/300\n",
            "1250/1250 [==============================] - 85s 68ms/step - loss: 0.3410 - accuracy: 0.8971 - val_loss: 0.5087 - val_accuracy: 0.8546\n",
            "Epoch 61/300\n",
            "1250/1250 [==============================] - 85s 68ms/step - loss: 0.3411 - accuracy: 0.8984 - val_loss: 0.5449 - val_accuracy: 0.8421\n",
            "Epoch 62/300\n",
            "1250/1250 [==============================] - 85s 68ms/step - loss: 0.3332 - accuracy: 0.8990 - val_loss: 0.5357 - val_accuracy: 0.8512\n",
            "Epoch 63/300\n",
            "1250/1250 [==============================] - 80s 64ms/step - loss: 0.3268 - accuracy: 0.9027 - val_loss: 0.5837 - val_accuracy: 0.8391\n",
            "Epoch 64/300\n",
            "1250/1250 [==============================] - 85s 68ms/step - loss: 0.3648 - accuracy: 0.8903 - val_loss: 0.6022 - val_accuracy: 0.8296\n",
            "Epoch 65/300\n",
            "1250/1250 [==============================] - 80s 64ms/step - loss: 0.3257 - accuracy: 0.9025 - val_loss: 0.4743 - val_accuracy: 0.8606\n",
            "Epoch 66/300\n",
            "1250/1250 [==============================] - 85s 68ms/step - loss: 0.3178 - accuracy: 0.9031 - val_loss: 0.6098 - val_accuracy: 0.8261\n",
            "Epoch 67/300\n",
            "1250/1250 [==============================] - 80s 64ms/step - loss: 0.3088 - accuracy: 0.9073 - val_loss: 0.5227 - val_accuracy: 0.8527\n",
            "Epoch 68/300\n",
            "1250/1250 [==============================] - 85s 68ms/step - loss: 0.3145 - accuracy: 0.9068 - val_loss: 0.4836 - val_accuracy: 0.8648\n",
            "Epoch 69/300\n",
            "1250/1250 [==============================] - 85s 68ms/step - loss: 0.3120 - accuracy: 0.9081 - val_loss: 0.5349 - val_accuracy: 0.8450\n",
            "Epoch 70/300\n",
            "1250/1250 [==============================] - 80s 64ms/step - loss: 0.3030 - accuracy: 0.9096 - val_loss: 0.5223 - val_accuracy: 0.8555\n",
            "Epoch 71/300\n",
            "1250/1250 [==============================] - 85s 68ms/step - loss: 0.3025 - accuracy: 0.9106 - val_loss: 0.5001 - val_accuracy: 0.8561\n",
            "Epoch 72/300\n",
            "1250/1250 [==============================] - 85s 68ms/step - loss: 0.2989 - accuracy: 0.9111 - val_loss: 0.5773 - val_accuracy: 0.8428\n",
            "Epoch 73/300\n",
            "1250/1250 [==============================] - 85s 68ms/step - loss: 0.2937 - accuracy: 0.9134 - val_loss: 0.4871 - val_accuracy: 0.8626\n",
            "Epoch 74/300\n",
            "1250/1250 [==============================] - 85s 68ms/step - loss: 0.2888 - accuracy: 0.9133 - val_loss: 0.4908 - val_accuracy: 0.8648\n",
            "Epoch 75/300\n",
            "1250/1250 [==============================] - 85s 68ms/step - loss: 0.2836 - accuracy: 0.9172 - val_loss: 0.5483 - val_accuracy: 0.8541\n",
            "Epoch 76/300\n",
            "1250/1250 [==============================] - 85s 68ms/step - loss: 0.2889 - accuracy: 0.9151 - val_loss: 0.5568 - val_accuracy: 0.8498\n",
            "Epoch 77/300\n",
            "1250/1250 [==============================] - 85s 68ms/step - loss: 0.2836 - accuracy: 0.9169 - val_loss: 0.4903 - val_accuracy: 0.8633\n",
            "Epoch 78/300\n",
            "1250/1250 [==============================] - 80s 64ms/step - loss: 0.2819 - accuracy: 0.9159 - val_loss: 0.5252 - val_accuracy: 0.8562\n",
            "Epoch 79/300\n",
            "1250/1250 [==============================] - 80s 64ms/step - loss: 0.2781 - accuracy: 0.9192 - val_loss: 0.4918 - val_accuracy: 0.8656\n",
            "Epoch 80/300\n",
            "1250/1250 [==============================] - 85s 68ms/step - loss: 0.2740 - accuracy: 0.9196 - val_loss: 0.5529 - val_accuracy: 0.8484\n",
            "Epoch 81/300\n",
            "1250/1250 [==============================] - 80s 64ms/step - loss: 0.2719 - accuracy: 0.9199 - val_loss: 0.4936 - val_accuracy: 0.8676\n",
            "Epoch 82/300\n",
            "1250/1250 [==============================] - 85s 68ms/step - loss: 0.2661 - accuracy: 0.9221 - val_loss: 0.5093 - val_accuracy: 0.8576\n",
            "Epoch 83/300\n",
            "1250/1250 [==============================] - 85s 68ms/step - loss: 0.2661 - accuracy: 0.9222 - val_loss: 0.5279 - val_accuracy: 0.8565\n",
            "Epoch 84/300\n",
            "1250/1250 [==============================] - 85s 68ms/step - loss: 0.2646 - accuracy: 0.9226 - val_loss: 0.5421 - val_accuracy: 0.8518\n",
            "Epoch 85/300\n",
            "1250/1250 [==============================] - 85s 68ms/step - loss: 0.2604 - accuracy: 0.9235 - val_loss: 0.5354 - val_accuracy: 0.8532\n",
            "Epoch 86/300\n",
            "1250/1250 [==============================] - 85s 68ms/step - loss: 0.2559 - accuracy: 0.9247 - val_loss: 0.5506 - val_accuracy: 0.8532\n",
            "Epoch 87/300\n",
            "1250/1250 [==============================] - 80s 64ms/step - loss: 0.2587 - accuracy: 0.9239 - val_loss: 0.5203 - val_accuracy: 0.8557\n",
            "Epoch 88/300\n",
            "1250/1250 [==============================] - 85s 68ms/step - loss: 0.2512 - accuracy: 0.9267 - val_loss: 0.5576 - val_accuracy: 0.8530\n",
            "Epoch 89/300\n",
            "1250/1250 [==============================] - 85s 68ms/step - loss: 0.2548 - accuracy: 0.9262 - val_loss: 0.5340 - val_accuracy: 0.8582\n",
            "Epoch 90/300\n",
            "1250/1250 [==============================] - 80s 64ms/step - loss: 0.2519 - accuracy: 0.9269 - val_loss: 0.5533 - val_accuracy: 0.8536\n"
          ]
        }
      ],
      "source": [
        "\n",
        "from tensorflow.keras.preprocessing.image import ImageDataGenerator\n",
        "\n",
        "# Configuramos Data Augmentation\n",
        "datagen = ImageDataGenerator(\n",
        "    rotation_range=40,\n",
        "    width_shift_range=0.2,\n",
        "    height_shift_range=0.2,\n",
        "    horizontal_flip=True,\n",
        "    vertical_flip=True,\n",
        "    zoom_range=0.01,\n",
        "    # brightness_range=(0.2,0.8)\n",
        ")\n",
        "\n",
        "# Entrenamiento del modelo con el generador de datos aumentados\n",
        "history = model.fit(datagen.flow(x_train, y_train, batch_size=32),            \n",
        "                    epochs=300,\n",
        "                    validation_data=(x_val, y_val),\n",
        "                    callbacks=[callback_val_loss, callback_val_accuracy])"
      ]
    },
    {
      "cell_type": "code",
      "execution_count": null,
      "metadata": {
        "colab": {
          "base_uri": "https://localhost:8080/"
        },
        "id": "OPFPUNcJ9oJu",
        "outputId": "6ee9ae05-69f6-489f-a3ff-45a9004b048a"
      },
      "outputs": [
        {
          "name": "stdout",
          "output_type": "stream",
          "text": [
            "Tiempo de entrenamiento: 2:19:25.263722\n"
          ]
        }
      ],
      "source": [
        "elapsed_time = datetime.timedelta(seconds=(time.perf_counter() - t))\n",
        "\n",
        "print('Tiempo de entrenamiento:', elapsed_time)"
      ]
    },
    {
      "cell_type": "markdown",
      "metadata": {
        "id": "n6Byf3JG9oJu"
      },
      "source": [
        "<a id='seccion6'></a>\n",
        "# **6. Evaluacion de los resultados**\n",
        "<hr style=\"height:5px;border-width:0;color:orange;background-color:orange\">"
      ]
    },
    {
      "cell_type": "markdown",
      "metadata": {},
      "source": [
        "\n",
        "Obtengamos una grafica de como el error y la accuracy van evolucionando en cada epoch en los datos de entrenamiento y en la validación"
      ]
    },
    {
      "cell_type": "code",
      "execution_count": null,
      "metadata": {
        "colab": {
          "base_uri": "https://localhost:8080/"
        },
        "id": "j9IaZ3-W9oJv",
        "outputId": "e7b656c5-9303-4cdb-b1ff-4c6fc7e51dc8"
      },
      "outputs": [
        {
          "name": "stdout",
          "output_type": "stream",
          "text": [
            "> 84.710\n"
          ]
        }
      ],
      "source": [
        "_, acc = model.evaluate(x_test, y_test, verbose=0)\n",
        "print('> %.3f' % (acc * 100.0))"
      ]
    },
    {
      "cell_type": "code",
      "execution_count": null,
      "metadata": {
        "colab": {
          "base_uri": "https://localhost:8080/",
          "height": 887
        },
        "id": "GrH8OFmF9oJv",
        "outputId": "c417ce7a-ba11-48e0-888b-62d43d54e9ad"
      },
      "outputs": [
        {
          "data": {
            "image/png": "[encoded data removed]",
            "text/plain": [
              "<Figure size 640x480 with 1 Axes>"
            ]
          },
          "metadata": {},
          "output_type": "display_data"
        },
        {
          "data": {
            "image/png": "[encoded data removed]",
            "text/plain": [
              "<Figure size 640x480 with 1 Axes>"
            ]
          },
          "metadata": {},
          "output_type": "display_data"
        }
      ],
      "source": [
        "plt.title('Cross Entropy Loss')\n",
        "plt.plot(history.history['loss'], color='blue', label='train')\n",
        "plt.plot(history.history['val_loss'], color='orange', label='val')\n",
        "plt.ylim(0, 3)\n",
        "plt.legend()\n",
        "plt.show()\n",
        "\n",
        "plt.title('Classification Accuracy')\n",
        "plt.plot(history.history['accuracy'], color='blue', label='train')\n",
        "plt.plot(history.history['val_accuracy'], color='orange', label='val')\n",
        "plt.ylim(0, 1)\n",
        "plt.legend()\n",
        "plt.show()"
      ]
    },
    {
      "cell_type": "markdown",
      "metadata": {
        "id": "BT7Xpz409oJv"
      },
      "source": [
        "El coste podemos ver que es estable y es en el epoch 15 que se fija en un valor. Además la accuracy baila alrededor de 0.10. No se puede decir que sea un modelo muy bueno.\n",
        "\n",
        "Veamos que tipo de predicciones estoy obteniendo sobre el conjunto de test (vamos a pintar las imagenes y sus clasificaciones)"
      ]
    },
    {
      "cell_type": "code",
      "execution_count": null,
      "metadata": {
        "id": "G4gqi32X9oJw"
      },
      "outputs": [],
      "source": [
        "predictions = model.predict(x_test)"
      ]
    },
    {
      "cell_type": "markdown",
      "metadata": {
        "id": "3blmpM1k9oJw"
      },
      "source": [
        "Una de las ventajas de Python es que hay montones de funciones y código realizado por terceras personas. Aquí me he fusilado unas bonitas funciones (que he adaptado un poco a mis necesidades) para poder pintar las imagenes, su label (ground truth) y las clasificaciones que hemos realizado."
      ]
    },
    {
      "cell_type": "code",
      "execution_count": null,
      "metadata": {
        "id": "CuZ6g28jO3p-"
      },
      "outputs": [],
      "source": [
        "def plot_image(i, predictions_array, true_label, img):\n",
        "  predictions_array, true_label, img = predictions_array, true_label[i], img[i]\n",
        "  plt.grid(False)\n",
        "  plt.xticks([])\n",
        "  plt.yticks([])\n",
        "\n",
        "  plt.imshow(img, cmap=plt.cm.binary)\n",
        "\n",
        "  predicted_label = np.argmax(predictions_array)\n",
        "  if predicted_label == true_label:\n",
        "    color = 'blue'\n",
        "  else:\n",
        "    color = 'red'\n",
        "\n",
        "  plt.xlabel(\"{} {:2.0f}% ({})\".format(predicted_label,\n",
        "                                100*np.max(predictions_array),\n",
        "                                true_label[0]),\n",
        "                                color=color)\n",
        "\n",
        "def plot_value_array(i, predictions_array, true_label):\n",
        "  predictions_array, true_label = predictions_array, true_label[i]\n",
        "  plt.grid(False)\n",
        "  plt.xticks(range(10))\n",
        "  plt.yticks([])\n",
        "  thisplot = plt.bar(range(10), predictions_array, color=\"#777777\")\n",
        "  plt.ylim([0, 1])\n",
        "  predicted_label = np.argmax(predictions_array)\n",
        "\n",
        "  thisplot[predicted_label].set_color('red')\n",
        "  thisplot[true_label[0]].set_color('blue')"
      ]
    },
    {
      "cell_type": "markdown",
      "metadata": {
        "id": "kCoAXQ6e9oJw"
      },
      "source": [
        "Dibujamos las primeras imagenes, con las predicciones y sus valores reales (un total de 20 imagenes, para no abusar de vuestros laptops)\n",
        "\n",
        "Coloreamos las prediciones correctas en azul y los fallos en rojo. Aunque primero he impreso las etiquetas para que tengamos una referencia al grafico."
      ]
    },
    {
      "cell_type": "code",
      "execution_count": null,
      "metadata": {
        "id": "2ybx-j58PDvi"
      },
      "outputs": [],
      "source": [
        "i = 0\n",
        "for l in cifar10_labels:\n",
        "    print(i, l)\n",
        "    i += 1\n",
        "\n",
        "num_rows = 5\n",
        "num_cols = 4\n",
        "start = 650\n",
        "num_images = num_rows*num_cols\n",
        "plt.figure(figsize=(2*2*num_cols, 2*num_rows))\n",
        "for i in range(num_images):\n",
        "  plt.subplot(num_rows, 2*num_cols, 2*i+1)\n",
        "  plot_image(i+start, predictions[i+start], y_test, x_test)\n",
        "  plt.subplot(num_rows, 2*num_cols, 2*i+2)\n",
        "  plot_value_array(i+start, predictions[i+start], y_test)\n",
        "plt.tight_layout()\n",
        "plt.show()"
      ]
    },
    {
      "cell_type": "markdown",
      "metadata": {
        "id": "_JU9pRS1iNJ2"
      },
      "source": [
        "## Guardamos el modelo para futuras evaluaciones\n",
        "\n",
        "Id cambiando los nombres del archivo para ir guardando los diversos proyectos.\n",
        "Aquí lo guardamos en \"local\", pero recordad que lo ideal es que lo guardeis en Google Drive (teneis que montar la unidad, fijar la ruta y allí guardar el modelo .h5)"
      ]
    },
    {
      "cell_type": "code",
      "execution_count": null,
      "metadata": {
        "id": "wEaRpWif9oJx"
      },
      "outputs": [],
      "source": [
        "model.save('cifar10_base_model.h5')"
      ]
    },
    {
      "cell_type": "markdown",
      "metadata": {},
      "source": [
        "<hr style=\"height:5px;border-width:0;color:red;background-color:red\">\n",
        "\n",
        "# **7. CONCLUSIONES**\n",
        "<hr style=\"height:5px;border-width:0;color:red;background-color:red\">\n",
        "\n",
        "Conseguido una accuracy de 84,71% con un modelo con poco overfitting.\n",
        "\n",
        "Creo real y posible llegar a mejores resultados pero esto llevaría mucho mas tiempo y recursos de computación (quisiera guardar los créditos de GPU para otro proyecto de Deep Learning relacionado con el campo de las ciencias medicas).\n",
        "\n",
        "La forma de optimizar seria ir probando cambios en la arquitectura como probar intercalar batch norm y dropout entre cada de las capas convolucionales, aumento complejidad de la red incluyendo mas bloques de convolución, aumento de filtros y variación de tamaño del kernel indistintamente.\n",
        "\n",
        "De tener tiempo y recursos ilimitados pondría en practica estas ideas para llegar a mejores resultados, pero como la vida misma, hay que elegir sabiamente donde destinamos nuestro tiempo, dinero y atención.\n",
        "\n",
        "Muchas gracias por tus clases Guille, de verdad las he disfrutado mucho tanto en contenido como en dinámica. Eres un profesor de calidad, estamos en contacto.\n"
      ]
    },
    {
      "cell_type": "code",
      "execution_count": null,
      "metadata": {
        "id": "RUeYZHYd9oJx"
      },
      "outputs": [],
      "source": []
    }
  ],
  "metadata": {
    "accelerator": "GPU",
    "colab": {
      "gpuType": "V100",
      "provenance": []
    },
    "kernelspec": {
      "display_name": "Python 3",
      "name": "python3"
    },
    "language_info": {
      "codemirror_mode": {
        "name": "ipython",
        "version": 3
      },
      "file_extension": ".py",
      "mimetype": "text/x-python",
      "name": "python",
      "nbconvert_exporter": "python",
      "pygments_lexer": "ipython3",
      "version": "3.11.5"
    }
  },
  "nbformat": 4,
  "nbformat_minor": 0
}
